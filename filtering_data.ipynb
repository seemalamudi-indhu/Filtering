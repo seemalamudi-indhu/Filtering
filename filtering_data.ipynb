{
 "cells": [
  {
   "cell_type": "code",
   "execution_count": 2,
   "id": "c6b57ad8",
   "metadata": {},
   "outputs": [],
   "source": [
    "import pandas as pd\n",
    "import psycopg\n"
   ]
  },
  {
   "cell_type": "code",
   "execution_count": 3,
   "id": "1e63eb9a",
   "metadata": {},
   "outputs": [
    {
     "name": "stdout",
     "output_type": "stream",
     "text": [
      "MOCK_DATA      Serial.no  genealogy_id wafer_lot_id  wafer_id_db   x   y       ecid1  \\\n",
      "0            1       6791690       P6AB55           24  46 -54  0x9a514680   \n",
      "1            2       5696696       P6AB57           43  98   5  0x9a514681   \n",
      "2            3       5499025       P6AB57           68  38  84  0x9a514682   \n",
      "3            4        774786       P6AB59           60  89 -73  0x9a514683   \n",
      "4            5       7247592       P6AB57            5  76 -33  0x9a514684   \n",
      "..         ...           ...          ...          ...  ..  ..         ...   \n",
      "195        196       1269478       P6AB58           31  44  32  0x9a514820   \n",
      "196        197       2017700       P6AB57           31 -69  87  0x9a514821   \n",
      "197        198       7272998       P6AB56           70  58 -65  0x9a514822   \n",
      "198        199       8254292       P6AB58           15  42 -39  0x9a514823   \n",
      "199        200        763146       P6AB57           46  61  17  0x9a514824   \n",
      "\n",
      "            ecid2           part_id product product_name  \n",
      "0      0x40c34cc2  P6AB55-12-3-12-5   C1613      GB_Trio  \n",
      "1      0x40c34cc3  P6AB55-12-2-12-5   C1610      GB_Quad  \n",
      "2      0x40c34cc4  P6AB55-12-2-12-5   C1612      GB_Mono  \n",
      "3      0x40c34cc5  P6AB55-12-2-12-6   C1612      GB_Mono  \n",
      "4      0x40c34cc6  P6AB55-12-2-12-5   C1614     GB_Penta  \n",
      "..            ...               ...     ...          ...  \n",
      "195  0x410308c170  P6AB55-12-2-12-5   C1613       GB_Duo  \n",
      "196  0x410308c171  P6AB55-12-2-12-4   C1611      GB_Mono  \n",
      "197  0x410308c172  P6AB55-12-2-12-6   C1612      GB_Mono  \n",
      "198  0x410308c173  P6AB55-12-2-12-5   C1611      GB_Mono  \n",
      "199  0x410308c173  P6AB55-12-2-13-5   C1614      GB_Quad  \n",
      "\n",
      "[200 rows x 11 columns]\n"
     ]
    }
   ],
   "source": [
    "# Assuming you have a CSV file containing the data\n",
    "data = pd.read_csv(r\"C:\\Users\\iseemala\\Downloads\\MOCK_DATA.csv\")\n",
    "print(\"MOCK_DATA\",data)\n"
   ]
  },
  {
   "cell_type": "code",
   "execution_count": 4,
   "id": "3a74cd0b",
   "metadata": {},
   "outputs": [],
   "source": [
    "# Filter for rows where both ecid1 and ecid2 are blank\n",
    "filtered_data = data[(data['ecid1'].isnull() | data['ecid1'].eq('')) & (data['ecid2'].isnull() | data['ecid2'].eq(''))].copy()"
   ]
  },
  {
   "cell_type": "code",
   "execution_count": 5,
   "id": "c1dd0063",
   "metadata": {},
   "outputs": [
    {
     "name": "stdout",
     "output_type": "stream",
     "text": [
      "filtereddata 2\n"
     ]
    }
   ],
   "source": [
    "print(\"filtereddata\",len(filtered_data))"
   ]
  },
  {
   "cell_type": "code",
   "execution_count": 6,
   "id": "fdd7da6d",
   "metadata": {},
   "outputs": [],
   "source": [
    "# Save the filtered data to another file (e.g., CSV)\n",
    "filtered_data.to_csv('ecid1andecid2isblank.csv', index=False)"
   ]
  },
  {
   "cell_type": "code",
   "execution_count": 7,
   "id": "a73f10c1",
   "metadata": {},
   "outputs": [],
   "source": [
    "ecid1andecid2isblank_read = pd.read_csv('ecid1andecid2isblank.csv')"
   ]
  },
  {
   "cell_type": "code",
   "execution_count": 8,
   "id": "93db8d19",
   "metadata": {},
   "outputs": [
    {
     "name": "stdout",
     "output_type": "stream",
     "text": [
      "ecid1andecid2isblank_read 2\n"
     ]
    }
   ],
   "source": [
    "print(\"ecid1andecid2isblank_read\",len(ecid1andecid2isblank_read))"
   ]
  },
  {
   "cell_type": "code",
   "execution_count": 9,
   "id": "68779de9",
   "metadata": {},
   "outputs": [],
   "source": [
    "filtered_data = data[(data['ecid1'] == '0x0') | (data['ecid2'] == '0x0')]"
   ]
  },
  {
   "cell_type": "code",
   "execution_count": 10,
   "id": "326610ba",
   "metadata": {},
   "outputs": [],
   "source": [
    "filtered_data.to_csv('ecid1andecid2is0.csv', index=False)"
   ]
  },
  {
   "cell_type": "code",
   "execution_count": 11,
   "id": "64d1e0bc",
   "metadata": {},
   "outputs": [],
   "source": [
    "ecid1andecid2is0_read = pd.read_csv('ecid1andecid2is0.csv')"
   ]
  },
  {
   "cell_type": "code",
   "execution_count": 12,
   "id": "9e6e9aed",
   "metadata": {},
   "outputs": [
    {
     "name": "stdout",
     "output_type": "stream",
     "text": [
      "ecid1andecid2is0 2\n"
     ]
    }
   ],
   "source": [
    "print(\"ecid1andecid2is0\",len(ecid1andecid2is0_read))"
   ]
  },
  {
   "cell_type": "code",
   "execution_count": null,
   "id": "4a505ab8",
   "metadata": {},
   "outputs": [],
   "source": []
  },
  {
   "cell_type": "code",
   "execution_count": null,
   "id": "8e4752be",
   "metadata": {},
   "outputs": [],
   "source": []
  },
  {
   "cell_type": "code",
   "execution_count": null,
   "id": "80502f25",
   "metadata": {},
   "outputs": [],
   "source": []
  },
  {
   "cell_type": "code",
   "execution_count": null,
   "id": "33c54930",
   "metadata": {},
   "outputs": [],
   "source": []
  },
  {
   "cell_type": "code",
   "execution_count": 13,
   "id": "a0d2d250",
   "metadata": {},
   "outputs": [
    {
     "name": "stdout",
     "output_type": "stream",
     "text": [
      "Result is stored in a DataFrame.\n"
     ]
    }
   ],
   "source": [
    "if isinstance(ecid1andecid2isblank_read, pd.DataFrame):\n",
    "    print(\"Result is stored in a DataFrame.\")\n",
    "else:\n",
    "    print(\"Result is not stored in a DataFrame.\")"
   ]
  },
  {
   "cell_type": "code",
   "execution_count": 14,
   "id": "889094d6",
   "metadata": {},
   "outputs": [
    {
     "name": "stdout",
     "output_type": "stream",
     "text": [
      "Result is stored in a DataFrame.\n"
     ]
    }
   ],
   "source": [
    "if isinstance(ecid1andecid2is0_read, pd.DataFrame):\n",
    "    print(\"Result is stored in a DataFrame.\")\n",
    "else:\n",
    "    print(\"Result is not stored in a DataFrame.\")"
   ]
  },
  {
   "cell_type": "code",
   "execution_count": null,
   "id": "63b3a2ae",
   "metadata": {},
   "outputs": [],
   "source": []
  },
  {
   "cell_type": "code",
   "execution_count": 15,
   "id": "e7797cc2",
   "metadata": {},
   "outputs": [],
   "source": [
    "data = pd.read_csv(r\"C:\\Users\\iseemala\\Downloads\\MOCK_DATA.csv\")\n",
    "df = pd.DataFrame(data)  \n",
    "\n"
   ]
  },
  {
   "cell_type": "code",
   "execution_count": 16,
   "id": "69ab3b9e",
   "metadata": {
    "scrolled": false
   },
   "outputs": [
    {
     "name": "stdout",
     "output_type": "stream",
     "text": [
      "ecid_valid 198\n"
     ]
    }
   ],
   "source": [
    "ecid_valid=df[(df['ecid1'].notnull()) & (df['ecid2'].notnull()) & ((df['ecid1'] !='0*0') & ((df['ecid2'] != '0*0')) & ((df['ecid1'] != '') & ((df['ecid2'] != ''))))]\n",
    "print(\"ecid_valid\",len(ecid_valid))"
   ]
  },
  {
   "cell_type": "code",
   "execution_count": 17,
   "id": "41b1ef60",
   "metadata": {},
   "outputs": [],
   "source": [
    "ecid_valid.to_csv('ecid_valid.csv',index=False)\n",
    "ecid_valid_read = pd.read_csv('ecid_valid.csv')"
   ]
  },
  {
   "cell_type": "code",
   "execution_count": 18,
   "id": "bb376b73",
   "metadata": {},
   "outputs": [
    {
     "name": "stdout",
     "output_type": "stream",
     "text": [
      "     Serial.no  genealogy_id wafer_lot_id  wafer_id_db   x   y       ecid1  \\\n",
      "0            1       6791690       P6AB55           24  46 -54  0x9a514680   \n",
      "1            2       5696696       P6AB57           43  98   5  0x9a514681   \n",
      "2            3       5499025       P6AB57           68  38  84  0x9a514682   \n",
      "3            4        774786       P6AB59           60  89 -73  0x9a514683   \n",
      "4            5       7247592       P6AB57            5  76 -33  0x9a514684   \n",
      "..         ...           ...          ...          ...  ..  ..         ...   \n",
      "193        196       1269478       P6AB58           31  44  32  0x9a514820   \n",
      "194        197       2017700       P6AB57           31 -69  87  0x9a514821   \n",
      "195        198       7272998       P6AB56           70  58 -65  0x9a514822   \n",
      "196        199       8254292       P6AB58           15  42 -39  0x9a514823   \n",
      "197        200        763146       P6AB57           46  61  17  0x9a514824   \n",
      "\n",
      "            ecid2           part_id product product_name  \n",
      "0      0x40c34cc2  P6AB55-12-3-12-5   C1613      GB_Trio  \n",
      "1      0x40c34cc3  P6AB55-12-2-12-5   C1610      GB_Quad  \n",
      "2      0x40c34cc4  P6AB55-12-2-12-5   C1612      GB_Mono  \n",
      "3      0x40c34cc5  P6AB55-12-2-12-6   C1612      GB_Mono  \n",
      "4      0x40c34cc6  P6AB55-12-2-12-5   C1614     GB_Penta  \n",
      "..            ...               ...     ...          ...  \n",
      "193  0x410308c170  P6AB55-12-2-12-5   C1613       GB_Duo  \n",
      "194  0x410308c171  P6AB55-12-2-12-4   C1611      GB_Mono  \n",
      "195  0x410308c172  P6AB55-12-2-12-6   C1612      GB_Mono  \n",
      "196  0x410308c173  P6AB55-12-2-12-5   C1611      GB_Mono  \n",
      "197  0x410308c173  P6AB55-12-2-13-5   C1614      GB_Quad  \n",
      "\n",
      "[198 rows x 11 columns]\n"
     ]
    }
   ],
   "source": [
    "print(ecid_valid_read)"
   ]
  },
  {
   "cell_type": "code",
   "execution_count": 19,
   "id": "40a27399",
   "metadata": {},
   "outputs": [],
   "source": [
    "localhost = 'localhost'\n",
    "database = 'FILTERING'\n",
    "port_id = '5432'\n",
    "username = 'postgres'\n",
    "pwd = 'Indhu@123'\n",
    "conn=None\n",
    "cur=None"
   ]
  },
  {
   "cell_type": "code",
   "execution_count": 20,
   "id": "37093134",
   "metadata": {},
   "outputs": [
    {
     "name": "stdout",
     "output_type": "stream",
     "text": [
      "Connected to the PostgreSQL database successfully!\n",
      "(1, 6791690, 'P6AB55', 24, 46, -54, 'E4Cd2', 'cFA8d', 'P6AB55-12-3-12-5', 'C1613', 'GB_Trio')\n",
      "(2, 5696696, 'P6AB57', 43, 98, 5, '3Df581', 'Fcc0b0', 'P6AB55-12-2-12-5', 'C1610', 'GB_Quad')\n",
      "(3, 5499025, 'P6AB57', 68, 38, 84, 'cCefC9', '0dDdCC', 'P6AB55-12-2-12-5', 'C1612', 'GB_Mono')\n",
      "(4, 774786, 'P6AB59', 60, 89, -73, 'a0B9f3', 'D2DDC0', 'P6AB55-12-2-12-6', 'C1612', 'GB_Mono')\n",
      "(5, 7247592, 'P6AB57', 5, 76, -33, 'A3BEF6', '3B7dB8', 'P6AB55-12-2-12-5', 'C1614', 'GB_Penta')\n",
      "(6, 3265314, 'P6AB55', 5, 25, -94, None, None, 'P6AB55-12-2-12-5', 'C1612', 'GB_Penta')\n",
      "(7, 5050853, 'P6AB56', 88, 6, -6, 'FDe80B', 'b7BeBa', 'P6AB55-12-3-12-5', 'C1610', 'GB_Mono')\n",
      "(8, 5509475, 'P6AB57', 80, 5, -38, 'f6FBB1', 'cDdfaf', 'P6AB55-12-2-13-5', 'C1612', 'GB_Penta')\n",
      "(9, 4475933, 'P6AB57', 56, -98, 18, '0FEEDd', '0bEAfc', 'P6AB55-12-2-12-6', 'C1610', 'GB_Trio')\n",
      "(10, 1837039, 'P6AB59', 85, -9, -15, 'ecaB7B', 'f5Dff', 'P6AB55-12-2-12-6', 'C1610', 'GB_Duo')\n",
      "(11, 5365329, 'P6AB57', 33, -76, 77, 'A41ecD', 'CC1dee', 'P6AB55-12-3-12-5', 'C1611', 'GB_Penta')\n",
      "(12, 1331785, 'P6AB58', 59, 26, -52, '5Fa720', 'BCeBf', 'P6AB55-12-2-12-4', 'C1610', 'GB_Quad')\n",
      "(13, 4247320, 'P6AB56', 41, 45, 90, '99Fcc', '1DFCb9', 'P6AB55-12-2-12-5', 'C1614', 'GB_Duo')\n",
      "(14, 3683171, 'P6AB56', 23, -63, -84, '7dDDac', '1DFCb10', 'P6AB55-12-2-12-4', 'C1610', 'GB_Duo')\n",
      "(15, 5300800, 'P6AB56', 68, 79, 54, 'ebb7A9', '3Dafbd', 'P6AB55-12-2-12-4', 'C1614', 'GB_Mono')\n",
      "(16, 4767948, 'P6AB57', 7, -32, -97, 'cefd9E', 'faad5E', 'P6AB55-12-2-12-4', 'C1610', 'GB_Mono')\n",
      "(17, 597276, 'P6AB57', 7, 100, -51, 'FAB04d', 'BCBec7', 'P6AB55-12-2-12-6', 'C1613', 'GB_Duo')\n",
      "(18, 5850010, 'P6AB59', 4, -19, -85, 'B62D7D', 'Da3Ba9', 'P6AB55-12-2-12-4', 'C1612', 'GB_Quad')\n",
      "(19, 9741697, 'P6AB59', 68, -16, 75, '0x0', '0x0', 'P6AB55-12-2-12-5', 'C1610', 'GB_Duo')\n",
      "(20, 3561793, 'P6AB59', 49, -41, 43, 'a7F3fD', '0a3Bd4', 'P6AB55-12-2-12-4', 'C1614', 'GB_Quad')\n",
      "(21, 4928655, 'P6AB59', 32, -47, -36, '8BFF6C', '8E71Ce', 'P6AB55-12-3-12-5', 'C1614', 'GB_Penta')\n",
      "(22, 3583457, 'P6AB55', 57, 11, 45, 'f941AA', '0x0', 'P6AB55-12-2-12-6', 'C1610', 'GB_Penta')\n",
      "(23, 4902092, 'P6AB59', 60, 46, 41, 'ABBDBc', 'F410Db', 'P6AB55-12-3-12-5', 'C1613', 'GB_Penta')\n",
      "(24, 77854, 'P6AB55', 82, 98, -97, 'd65eD5', '48B7ab', 'P6AB55-12-2-13-5', 'C1614', 'GB_Mono')\n",
      "(25, 9345438, 'P6AB56', 87, -95, -86, 'F0fFbE', '3fCeBC', 'P6AB55-12-2-12-6', 'C1610', 'GB_Duo')\n",
      "(26, 2367599, 'P6AB57', 9, 87, -38, '2CFD82', 'deAfb9', 'P6AB55-12-2-13-5', 'C1610', 'GB_Mono')\n",
      "(27, 4015053, 'P6AB55', 62, 45, 6, '7D9e17', 'BbDc4d', 'P6AB55-12-2-13-5', 'C1612', 'GB_Duo')\n",
      "(28, 4472906, 'P6AB57', 61, 75, -80, '7FB9Fe', 'c4F094', 'P6AB55-12-3-12-5', 'C1611', 'GB_Trio')\n",
      "(29, 2804969, 'P6AB55', 52, -9, -26, '9CfdCE', 'cAEbaA', 'P6AB55-12-3-12-5', 'C1611', 'GB_Quad')\n",
      "(30, 4481801, 'P6AB55', 81, 71, 72, 'Ba5aA3', 'E29eFc', 'P6AB55-12-2-12-4', 'C1612', 'GB_Mono')\n",
      "(31, 7139752, 'P6AB55', 80, -24, 32, 'baEdfF', 'ac4B3A', 'P6AB55-12-2-12-5', 'C1612', 'GB_Quad')\n",
      "(32, 1471874, 'P6AB56', 87, -7, -76, 'Aaf31d', '7A9ef1', 'P6AB55-12-2-13-5', 'C1614', 'GB_Trio')\n",
      "(33, 684437, 'P6AB55', 31, -56, 83, 'B1486F', 'b6ca1A', 'P6AB55-12-2-13-5', 'C1611', 'GB_Duo')\n",
      "(34, 2870116, 'P6AB55', 10, 52, -37, '2C3CDF', 'ceEd7b', 'P6AB55-12-2-12-4', 'C1612', 'GB_Mono')\n",
      "(35, 8419714, 'P6AB58', 14, 44, -82, 'E76A33', 'dCcaba', 'P6AB55-12-2-12-4', 'C1613', 'GB_Mono')\n",
      "(36, 6195631, 'P6AB58', 58, -86, 74, '9EfdBB', '4c5e9b', 'P6AB55-12-3-12-5', 'C1613', 'GB_Trio')\n",
      "(37, 9424658, 'P6AB57', 98, -49, 59, '6DDEda', 'eD3EcE', 'P6AB55-12-3-12-5', 'C1613', 'GB_Duo')\n",
      "(38, 6105050, 'P6AB56', 84, 65, -63, '0b33EE', 'aC4DF7', 'P6AB55-12-2-13-5', 'C1611', 'GB_Mono')\n",
      "(39, 349133, 'P6AB56', 67, -14, 91, '9fD8B5', 'CDCC3a', 'P6AB55-12-2-12-6', 'C1611', 'GB_Penta')\n",
      "(40, 6194887, 'P6AB57', 66, -55, 96, 'B5c87a', 'BCCC92', 'P6AB55-12-2-12-5', 'C1613', 'GB_Mono')\n",
      "(41, 47170, 'P6AB56', 52, 10, 56, '5d6A1d', 'AfDcCF', 'P6AB55-12-2-13-5', 'C1610', 'GB_Penta')\n",
      "(42, 9731250, 'P6AB59', 84, -62, 100, 'E8a8CE', '2B0FDc', 'P6AB55-12-2-12-6', 'C1613', 'GB_Penta')\n",
      "(43, 9298282, 'P6AB58', 30, -78, 67, 'bC0B2C', 'eaBAfd', 'P6AB55-12-2-12-4', 'C1613', 'GB_Quad')\n",
      "(44, 1835176, 'P6AB57', 94, 93, -27, 'cEdf8C', 'fd3fd1', 'P6AB55-12-2-12-6', 'C1610', 'GB_Penta')\n",
      "(45, 4049563, 'P6AB56', 26, 59, -90, 'ecaef8', 'B2B5Ae', 'P6AB55-12-2-12-5', 'C1613', 'GB_Duo')\n",
      "(46, 8151310, 'P6AB59', 93, -34, -64, '83A81d', 'fF2Fda', 'P6AB55-12-2-12-5', 'C1611', 'GB_Duo')\n",
      "(47, 6513518, 'P6AB56', 5, -20, -88, '5CfAa7', '49fc76', 'P6AB55-12-2-13-5', 'C1611', 'GB_Duo')\n",
      "(48, 7479425, 'P6AB57', 93, -91, 47, 'e1FDB0', 'C41369', 'P6AB55-12-2-13-5', 'C1614', 'GB_Penta')\n",
      "(49, 6911809, 'P6AB56', 96, -92, -25, '0E2cFD', 'fF2d1F', 'P6AB55-12-2-12-6', 'C1614', 'GB_Penta')\n",
      "(50, 8162674, 'P6AB59', 79, -63, -56, '5AFb4d', '5Df89D', 'P6AB55-12-2-12-6', 'C1611', 'GB_Quad')\n",
      "(51, 1154563, 'P6AB55', 28, -87, 100, '0A9B44', 'bfBCBB', 'P6AB55-12-2-12-4', 'C1610', 'GB_Duo')\n",
      "(52, 209873, 'P6AB58', 91, 75, 51, 'd7beAE', '5bd3EE', 'P6AB55-12-3-12-5', 'C1613', 'GB_Mono')\n",
      "(53, 885252, 'P6AB59', 76, 90, 84, '4A0FFF', 'FEfE96', 'P6AB55-12-2-12-6', 'C1611', 'GB_Trio')\n",
      "(54, 3313622, 'P6AB57', 69, -43, 95, 'D7E167', 'C4A8B4', 'P6AB55-12-3-12-5', 'C1612', 'GB_Penta')\n",
      "(55, 8650579, 'P6AB55', 58, -68, -62, '3a3a6a', 'E8DBfC', 'P6AB55-12-2-12-4', 'C1610', 'GB_Duo')\n",
      "(56, 5827224, 'P6AB59', 89, 51, -87, '21aBB9', '46D44A', 'P6AB55-12-2-12-6', 'C1610', 'GB_Duo')\n",
      "(57, 3824944, 'P6AB55', 96, 40, -64, 'cACB8d', 'e8dbcA', 'P6AB55-12-2-12-5', 'C1610', 'GB_Trio')\n",
      "(58, 5147503, 'P6AB58', 61, 18, -47, 'EE7A9F', 'b6baf1', 'P6AB55-12-2-13-5', 'C1611', 'GB_Penta')\n",
      "(59, 5413725, 'P6AB58', 71, -91, -54, '2aF97F', '0dDE4F', 'P6AB55-12-2-12-6', 'C1610', 'GB_Trio')\n",
      "(60, 450427, 'P6AB55', 1, 6, 54, 'D9aEeA', 'EdaAd8', 'P6AB55-12-2-12-5', 'C1614', 'GB_Mono')\n",
      "(61, 8374887, 'P6AB56', 29, -10, 51, 'FeF2c0', 'DE7daa', 'P6AB55-12-2-12-5', 'C1614', 'GB_Mono')\n",
      "(62, 793145, 'P6AB59', 61, 4, 25, 'dc95Ff', 'b5ECe3', 'P6AB55-12-2-12-4', 'C1610', 'GB_Trio')\n",
      "(63, 1237865, 'P6AB56', 4, 25, 16, '2dDFEb', 'bCfAab', 'P6AB55-12-3-12-5', 'C1610', 'GB_Mono')\n",
      "(64, 1436606, 'P6AB58', 88, 43, -71, 'C26BEa', 'E4cCcc', 'P6AB55-12-2-12-4', 'C1613', 'GB_Trio')\n",
      "(65, 4584117, 'P6AB55', 8, -55, -94, 'Cda5C6', '9Dd8Cd', 'P6AB55-12-3-12-5', 'C1613', 'GB_Penta')\n",
      "(66, 3162331, 'P6AB57', 53, -45, 54, '4FdD33', '8f6484', 'P6AB55-12-2-12-6', 'C1612', 'GB_Mono')\n",
      "(67, 6376299, 'P6AB58', 4, -29, -27, 'FdABd1', '7e2e3A', 'P6AB55-12-3-12-5', 'C1610', 'GB_Penta')\n",
      "(68, 8840508, 'P6AB59', 95, -86, 2, '6EFCfe', '5Dd2eE', 'P6AB55-12-2-13-5', 'C1614', 'GB_Trio')\n",
      "(69, 6376239, 'P6AB58', 81, 81, 0, 'cEf190', '2BEfFc', 'P6AB55-12-2-13-5', 'C1612', 'GB_Mono')\n",
      "(70, 2489035, 'P6AB56', 4, 56, 53, 'ebb7Dd', '2bccDB', 'P6AB55-12-2-12-4', 'C1610', 'GB_Mono')\n",
      "(71, 1430522, 'P6AB58', 91, 56, -90, 'e4CaB3', '60C1Ef', 'P6AB55-12-3-12-5', 'C1610', 'GB_Trio')\n",
      "(72, 7493360, 'P6AB57', 82, -92, -30, 'cA09B6', 'b16fa8', 'P6AB55-12-2-12-4', 'C1610', 'GB_Quad')\n",
      "(73, 8859980, 'P6AB56', 28, 98, 24, '7BB3F5', '0bdCdf', 'P6AB55-12-3-12-5', 'C1614', 'GB_Mono')\n",
      "(74, 901849, 'P6AB59', 98, 64, -85, 'fCbFf4', '6a5f9c', 'P6AB55-12-2-12-4', 'C1612', 'GB_Penta')\n",
      "(75, 2568358, 'P6AB55', 50, 72, 53, '0999bc', '1BcEEF', 'P6AB55-12-2-12-5', 'C1610', 'GB_Penta')\n",
      "(76, 8749143, 'P6AB59', 29, 31, -50, 'EdBCE6', '20FD9B', 'P6AB55-12-2-13-5', 'C1614', 'GB_Duo')\n",
      "(77, 4253599, 'P6AB58', 96, 77, -33, 'e04ABa', 'D4BdAc', 'P6AB55-12-2-12-5', 'C1612', 'GB_Trio')\n",
      "(78, 6419103, 'P6AB58', 13, -39, -100, '6fBfEA', 'Fa6BDa', 'P6AB55-12-2-12-6', 'C1614', 'GB_Mono')\n",
      "(79, 1457677, 'P6AB59', 68, 25, -91, '66Fc7e', 'd1bBD1', 'P6AB55-12-2-12-6', 'C1613', 'GB_Duo')\n",
      "(80, 6728758, 'P6AB59', 91, -50, 46, 'AAEAab', '26DDF5', 'P6AB55-12-2-13-5', 'C1611', 'GB_Penta')\n",
      "(81, 4204162, 'P6AB59', 72, 86, 36, '7C2A7B', '9B4c6e', 'P6AB55-12-2-12-6', 'C1612', 'GB_Duo')\n",
      "(82, 9290601, 'P6AB56', 73, 20, 10, '650F3B', 'Fdc4ea', 'P6AB55-12-3-12-5', 'C1610', 'GB_Trio')\n",
      "(83, 7017409, 'P6AB58', 26, -77, -68, 'bcfec3', 'ebEcBc', 'P6AB55-12-2-12-5', 'C1614', 'GB_Quad')\n",
      "(84, 7510969, 'P6AB58', 57, 0, 8, '1Af02c', 'eAcFB8', 'P6AB55-12-2-12-4', 'C1613', 'GB_Penta')\n",
      "(85, 8838469, 'P6AB57', 27, 29, 3, 'accB2f', '8eCBbe', 'P6AB55-12-2-12-5', 'C1614', 'GB_Duo')\n",
      "(86, 974202, 'P6AB57', 46, 68, 70, 'cC66dc', 'AeFeAB', 'P6AB55-12-2-12-6', 'C1612', 'GB_Mono')\n",
      "(87, 1574803, 'P6AB57', 36, -36, -93, '48eBE4', 'C0dfC8', 'P6AB55-12-3-12-5', 'C1612', 'GB_Mono')\n",
      "(88, 8754171, 'P6AB59', 69, 98, 86, 'dEDC18', 'eab9cD', 'P6AB55-12-3-12-5', 'C1610', 'GB_Duo')\n",
      "(89, 7021654, 'P6AB57', 36, 27, 6, '75a3aA', 'FF6DF2', 'P6AB55-12-2-12-4', 'C1614', 'GB_Mono')\n",
      "(90, 5021697, 'P6AB56', 30, -93, 90, 'A52aDc', '6Fde7d', 'P6AB55-12-2-13-5', 'C1611', 'GB_Penta')\n",
      "(91, 429011, 'P6AB57', 15, 49, 37, 'FdBdcb', '35EE9F', 'P6AB55-12-2-12-6', 'C1610', 'GB_Penta')\n",
      "(92, 1927176, 'P6AB56', 85, -86, -11, 'fBe3a7', '4eaBeb', 'P6AB55-12-2-12-6', 'C1614', 'GB_Penta')\n",
      "(93, 6700553, 'P6AB58', 91, -21, -93, '0366f7', '79ADab', 'P6AB55-12-2-13-5', 'C1611', 'GB_Mono')\n",
      "(94, 546077, 'P6AB58', 77, -84, 28, 'AbA64e', 'E8BD0F', 'P6AB55-12-2-12-6', 'C1613', 'GB_Trio')\n",
      "(95, 4802728, 'P6AB58', 62, -25, 95, '0b10Cb', '9ecD2F', 'P6AB55-12-2-12-6', 'C1610', 'GB_Mono')\n",
      "(96, 4206248, 'P6AB55', 60, 7, -98, '9eDfaF', 'FE0eB4', 'P6AB55-12-3-12-5', 'C1611', 'GB_Penta')\n",
      "(97, 9521306, 'P6AB57', 64, -8, 64, 'DCedFb', 'eca3a0', 'P6AB55-12-2-13-5', 'C1610', 'GB_Trio')\n",
      "(98, 6468399, 'P6AB55', 22, -16, -48, '22FABD', 'A4BBEe', 'P6AB55-12-2-12-6', 'C1613', 'GB_Duo')\n",
      "(99, 1154588, 'P6AB55', 86, -28, 51, 'e9Aa84', '3e2D14', 'P6AB55-12-2-12-4', 'C1614', 'GB_Mono')\n",
      "(100, 3070024, 'P6AB58', 18, 58, 66, 'C8d4EC', 'Ec16FB', 'P6AB55-12-2-12-6', 'C1611', 'GB_Penta')\n",
      "(101, 1106041, 'P6AB59', 2, 36, 91, '0EcDeB', '5BCFcc', 'P6AB55-12-2-12-6', 'C1614', 'GB_Quad')\n",
      "(102, 1906732, 'P6AB58', 43, 35, 14, 'DaEd2a', '74bB5d', 'P6AB55-12-2-13-5', 'C1612', 'GB_Mono')\n",
      "(103, 1777100, 'P6AB59', 45, -98, 57, '131ECf', 'aBBeDe', 'P6AB55-12-2-12-4', 'C1610', 'GB_Mono')\n",
      "(104, 4882591, 'P6AB58', 2, -45, 89, '7A14Bf', 'FFa6E7', 'P6AB55-12-2-12-6', 'C1612', 'GB_Trio')\n",
      "(105, 8077037, 'P6AB56', 52, 16, -95, '3Cd63d', '6ade8d', 'P6AB55-12-2-12-4', 'C1612', 'GB_Penta')\n",
      "(106, 6236770, 'P6AB57', 20, -100, 85, 'aACe5C', '1E6Ab9', 'P6AB55-12-2-12-6', 'C1614', 'GB_Duo')\n",
      "(107, 9265395, 'P6AB59', 17, -64, 45, 'eBc7d2', '13D794', 'P6AB55-12-2-12-6', 'C1613', 'GB_Duo')\n",
      "(108, 7028117, 'P6AB56', 32, 57, -19, 'aD9ebE', 'E5357a', 'P6AB55-12-2-13-5', 'C1612', 'GB_Mono')\n",
      "(109, 48916, 'P6AB56', 76, -81, 17, 'DaE56d', '33Cbba', 'P6AB55-12-2-12-4', 'C1611', 'GB_Duo')\n",
      "(110, 7110147, 'P6AB58', 28, -3, -34, 'E63EAE', '7BEB6D', 'P6AB55-12-3-12-5', 'C1614', 'GB_Duo')\n",
      "(111, 3711843, 'P6AB57', 18, -26, 15, 'CE0fAC', '431abC', 'P6AB55-12-2-12-6', 'C1612', 'GB_Mono')\n",
      "(112, 4978030, 'P6AB58', 93, 73, 83, '8Fdc72', '8cbd32', 'P6AB55-12-2-12-6', 'C1611', 'GB_Penta')\n",
      "(113, 2972010, 'P6AB56', 9, -16, -4, 'bB7dbA', 'cA5E56', 'P6AB55-12-2-12-6', 'C1612', 'GB_Mono')\n",
      "(114, 9395068, 'P6AB56', 91, 95, 23, 'CC2fab', '9D7EC1', 'P6AB55-12-2-12-5', 'C1610', 'GB_Trio')\n",
      "(115, 7287490, 'P6AB59', 16, 32, -58, 'a3Dffe', 'Aee33E', 'P6AB55-12-2-13-5', 'C1612', 'GB_Trio')\n",
      "(116, 4804638, 'P6AB56', 74, 82, 36, 'A24ebc', 'FBC31D', 'P6AB55-12-2-12-5', 'C1611', 'GB_Penta')\n",
      "(117, 2124484, 'P6AB58', 6, -83, -92, 'dE4Eed', '9EE888', 'P6AB55-12-2-12-4', 'C1613', 'GB_Trio')\n",
      "(118, 4487614, 'P6AB55', 71, 39, -61, 'A4aEf1', 'c0fb7B', 'P6AB55-12-2-12-4', 'C1614', 'GB_Mono')\n",
      "(119, 2535704, 'P6AB57', 89, 95, 12, '180FCD', '312A0D', 'P6AB55-12-2-13-5', 'C1613', 'GB_Duo')\n",
      "(120, 7067360, 'P6AB57', 52, -47, -87, 'EDBea2', '0fBA28', 'P6AB55-12-2-12-6', 'C1612', 'GB_Mono')\n",
      "(121, 4960540, 'P6AB56', 98, -95, 20, '9dad33', 'Cc1289', 'P6AB55-12-3-12-5', 'C1613', 'GB_Trio')\n",
      "(122, 9246885, 'P6AB57', 7, 92, 82, 'FDeefd', '20BdeC', 'P6AB55-12-3-12-5', 'C1614', 'GB_Mono')\n",
      "(123, 5359805, 'P6AB55', 93, 60, -17, 'dFbdad', '0C9DF8', 'P6AB55-12-2-13-5', 'C1613', 'GB_Mono')\n",
      "(124, 1564940, 'P6AB59', 42, -75, -59, 'd3eAfA', 'cdE2a7', 'P6AB55-12-2-12-5', 'C1614', 'GB_Quad')\n",
      "(125, 8226293, 'P6AB55', 17, 36, 4, '3dEfC9', '80ffC3', 'P6AB55-12-2-13-5', 'C1612', 'GB_Quad')\n",
      "(126, 6970042, 'P6AB55', 86, 91, 43, 'dB7608', 'FcCfEE', 'P6AB55-12-2-12-6', 'C1613', 'GB_Mono')\n",
      "(127, 712577, 'P6AB56', 79, -62, -37, 'acDb2c', '0FBBDA', 'P6AB55-12-2-12-6', 'C1611', 'GB_Duo')\n",
      "(128, 2176166, 'P6AB57', 59, -28, -59, 'EFccfD', 'FbE8DF', 'P6AB55-12-2-12-4', 'C1612', 'GB_Quad')\n",
      "(129, 7585922, 'P6AB56', 15, -57, 99, 'Fa304C', 'fa91DD', 'P6AB55-12-3-12-5', 'C1611', 'GB_Quad')\n",
      "(130, 5576142, 'P6AB56', 98, -22, -43, 'C4ceA1', 'Bccd0e', 'P6AB55-12-2-13-5', 'C1614', 'GB_Quad')\n",
      "(131, 8366675, 'P6AB59', 26, 64, -100, 'BDc00d', '7eb24B', 'P6AB55-12-2-12-5', 'C1614', 'GB_Mono')\n",
      "(132, 5049443, 'P6AB59', 76, 10, -71, 'A2bA3B', 'dC463E', 'P6AB55-12-3-12-5', 'C1614', 'GB_Duo')\n",
      "(133, 8841280, 'P6AB59', 92, -14, -81, 'DDaE1a', '9BfB8e', 'P6AB55-12-2-12-4', 'C1611', 'GB_Penta')\n",
      "(134, 8492805, 'P6AB55', 60, 28, -32, 'c9AD1d', 'EAcCAd', 'P6AB55-12-2-12-4', 'C1613', 'GB_Quad')\n",
      "(135, 407723, 'P6AB59', 24, -27, -31, 'dfFDAB', 'EAfB4a', 'P6AB55-12-3-12-5', 'C1611', 'GB_Trio')\n",
      "(136, 9455287, 'P6AB56', 17, -60, -10, '29BB8B', '7F0bAA', 'P6AB55-12-3-12-5', 'C1611', 'GB_Trio')\n",
      "(137, 8856552, 'P6AB59', 23, 13, -33, '3AbC3D', '6e26c2', 'P6AB55-12-2-13-5', 'C1612', 'GB_Trio')\n",
      "(138, 7661007, 'P6AB58', 1, 52, 80, '6eA1ac', 'eEabcD', 'P6AB55-12-2-12-4', 'C1614', 'GB_Mono')\n",
      "(139, 5751054, 'P6AB59', 23, 63, 81, 'BAbaA8', 'FE84ff', 'P6AB55-12-3-12-5', 'C1610', 'GB_Mono')\n",
      "(140, 1784807, 'P6AB56', 2, -72, -55, '8b8b5f', 'C8aaAD', 'P6AB55-12-3-12-5', 'C1612', 'GB_Penta')\n",
      "(141, 1541655, 'P6AB59', 61, -79, 68, 'dbda9e', '2DFAAa', 'P6AB55-12-2-12-5', 'C1611', 'GB_Penta')\n",
      "(142, 9135733, 'P6AB57', 51, 39, 68, 'Be6F3c', '4E3ceF', 'P6AB55-12-2-13-5', 'C1610', 'GB_Quad')\n",
      "(143, 4331198, 'P6AB57', 23, 47, -69, '8618AA', '5faBF2', 'P6AB55-12-2-12-6', 'C1611', 'GB_Duo')\n",
      "(144, 6796164, 'P6AB56', 65, -18, -52, 'CDf95E', '412dBa', 'P6AB55-12-2-12-5', 'C1611', 'GB_Duo')\n",
      "(145, 5766739, 'P6AB56', 8, 15, 66, 'a3BcA2', '5dbc9f', 'P6AB55-12-3-12-5', 'C1613', 'GB_Trio')\n",
      "(146, 1373551, 'P6AB59', 44, -9, 62, '0B4CCe', 'CfB2A4', 'P6AB55-12-2-12-4', 'C1613', 'GB_Trio')\n",
      "(147, 8895726, 'P6AB55', 14, -99, 86, '8EDFAB', 'dAeDa1', 'P6AB55-12-2-12-4', 'C1614', 'GB_Duo')\n",
      "(148, 8490720, 'P6AB55', 39, 94, -80, '1e1D25', '4DCaCB', 'P6AB55-12-3-12-5', 'C1612', 'GB_Trio')\n",
      "(149, 5744206, 'P6AB56', 30, 21, 73, '7fFdBe', 'cdF9e3', 'P6AB55-12-2-12-5', 'C1611', 'GB_Mono')\n",
      "(150, 5955217, 'P6AB56', 8, 55, -11, 'E252D8', 'Fca4db', 'P6AB55-12-2-13-5', 'C1612', 'GB_Penta')\n",
      "(151, 4607742, 'P6AB56', 52, 52, 8, 'eca1F2', 'e2FdEb', 'P6AB55-12-2-12-4', 'C1611', 'GB_Duo')\n",
      "(152, 9670216, 'P6AB56', 36, 30, -98, 'CcD77C', 'ABAead', 'P6AB55-12-2-13-5', 'C1610', 'GB_Duo')\n",
      "(153, 9946601, 'P6AB56', 77, 66, 94, '15879c', 'B8978d', 'P6AB55-12-2-13-5', 'C1610', 'GB_Trio')\n",
      "(154, 5153699, 'P6AB57', 60, 10, 67, 'fc1dD4', '1EEdaE', 'P6AB55-12-2-12-5', 'C1610', 'GB_Duo')\n",
      "(155, 6084506, 'P6AB56', 60, -59, -72, '0bb4e9', 'Ca9DCB', 'P6AB55-12-3-12-5', 'C1613', 'GB_Mono')\n",
      "(156, 6479385, 'P6AB57', 74, -33, 12, 'BcFBfa', 'dea6f1', 'P6AB55-12-2-13-5', 'C1611', 'GB_Mono')\n",
      "(157, 6568754, 'P6AB55', 97, 48, 33, 'E2faCB', 'FFaF9F', 'P6AB55-12-2-12-6', 'C1611', 'GB_Trio')\n",
      "(158, 7607182, 'P6AB56', 85, 3, 31, 'b3FDBD', 'dDD5b4', 'P6AB55-12-3-12-5', 'C1614', 'GB_Duo')\n",
      "(159, 9019204, 'P6AB55', 2, -55, 6, '8CFAc2', 'Db4c49', 'P6AB55-12-2-13-5', 'C1614', 'GB_Quad')\n",
      "(160, 4562272, 'P6AB57', 23, 92, -42, 'cBA24c', 'f88FEd', 'P6AB55-12-2-13-5', 'C1614', 'GB_Mono')\n",
      "(161, 1213882, 'P6AB59', 80, -22, -71, '0Bbfe5', 'C3Fe8E', 'P6AB55-12-2-12-5', 'C1610', 'GB_Penta')\n",
      "(162, 6767454, 'P6AB55', 73, 66, -52, '7F0Aef', '30A8aa', 'P6AB55-12-2-13-5', 'C1611', 'GB_Duo')\n",
      "(163, 1922324, 'P6AB57', 18, -82, -40, '05adCa', '1f4D4d', 'P6AB55-12-2-12-6', 'C1611', 'GB_Mono')\n",
      "(164, 8057125, 'P6AB55', 53, 7, 95, '3AcBf6', 'CfA5c4', 'P6AB55-12-2-12-6', 'C1614', 'GB_Mono')\n",
      "(165, 3095616, 'P6AB55', 19, -4, 10, 'ccadBc', '28EAff', 'P6AB55-12-2-12-5', 'C1611', 'GB_Mono')\n",
      "(166, 4481017, 'P6AB55', 29, -52, -52, 'D76B28', 'B3ebBD', 'P6AB55-12-3-12-5', 'C1610', 'GB_Penta')\n",
      "(167, 9977451, 'P6AB58', 32, 31, -20, 'CBa8Fe', 'b9aAD8', 'P6AB55-12-3-12-5', 'C1610', 'GB_Trio')\n",
      "(168, 5797168, 'P6AB58', 13, -70, -1, '2735B1', 'aF4FBe', 'P6AB55-12-2-13-5', 'C1614', 'GB_Duo')\n",
      "(169, 7996682, 'P6AB57', 60, -13, -83, 'd39f45', '5d47Ae', 'P6AB55-12-2-13-5', 'C1611', 'GB_Mono')\n",
      "(170, 7288212, 'P6AB55', 8, 4, -48, 'D05129', 'adf45e', 'P6AB55-12-3-12-5', 'C1613', 'GB_Penta')\n",
      "(171, 5694415, 'P6AB56', 10, 65, -91, 'ec8Bd4', '7e8bFd', 'P6AB55-12-3-12-5', 'C1612', 'GB_Duo')\n",
      "(172, 4283868, 'P6AB56', 88, 55, 50, 'CfCd91', '85Ed7b', 'P6AB55-12-2-12-6', 'C1612', 'GB_Duo')\n",
      "(173, 7904676, 'P6AB55', 91, -25, 88, '5DcE79', 'bBCBcC', 'P6AB55-12-2-12-6', 'C1611', 'GB_Quad')\n",
      "(174, 4816901, 'P6AB56', 5, 58, -5, 'e2D9A7', 'F93C2E', 'P6AB55-12-2-12-4', 'C1610', 'GB_Duo')\n",
      "(175, 1537073, 'P6AB55', 27, -29, -80, 'dd9beE', 'dEcbaF', 'P6AB55-12-2-13-5', 'C1612', 'GB_Penta')\n",
      "(176, 9666360, 'P6AB56', 9, -89, -30, '4f2CD4', 'DC316E', 'P6AB55-12-2-13-5', 'C1612', 'GB_Duo')\n",
      "(177, 5280416, 'P6AB55', 0, 40, -42, 'F9eD6a', '4fd0f7', 'P6AB55-12-2-12-6', 'C1613', 'GB_Quad')\n",
      "(178, 4363836, 'P6AB57', 22, -64, 10, '0786dA', 'a2aFe0', 'P6AB55-12-2-12-5', 'C1614', 'GB_Quad')\n",
      "(179, 11088, 'P6AB58', 62, 55, 57, 'Bf7AfE', 'daf5fe', 'P6AB55-12-3-12-5', 'C1610', 'GB_Penta')\n",
      "(180, 8099498, 'P6AB55', 83, -13, -92, 'b8A2Fc', '0DE30e', 'P6AB55-12-2-12-5', 'C1614', 'GB_Quad')\n",
      "(181, 9480096, 'P6AB57', 77, 58, 51, 'BF3C10', 'c8bBdF', 'P6AB55-12-2-12-6', 'C1614', 'GB_Mono')\n",
      "(182, 2359348, 'P6AB57', 42, -13, -4, '4b6e9B', '4c8ee4', 'P6AB55-12-2-12-6', 'C1610', 'GB_Quad')\n",
      "(183, 3633987, 'P6AB59', 95, -65, 94, 'ca89BF', 'ebBEfe', 'P6AB55-12-3-12-5', 'C1612', 'GB_Mono')\n",
      "(184, 6471850, 'P6AB58', 77, 55, -6, '77c94E', '18bAf3', 'P6AB55-12-2-12-6', 'C1614', 'GB_Mono')\n",
      "(185, 3237417, 'P6AB57', 13, 29, 77, 'AcCD65', '8Bd6c5', 'P6AB55-12-2-12-4', 'C1611', 'GB_Duo')\n",
      "(186, 9245957, 'P6AB57', 89, 38, -9, '8d09e4', 'dFF5e8', 'P6AB55-12-3-12-5', 'C1613', 'GB_Penta')\n",
      "(187, 8077711, 'P6AB58', 27, -79, -15, '03Cbb3', 'Cd7eA2', 'P6AB55-12-2-12-6', 'C1614', 'GB_Penta')\n",
      "(188, 2592988, 'P6AB57', 13, -4, 49, 'A92C4f', 'b54ecF', 'P6AB55-12-2-13-5', 'C1612', 'GB_Duo')\n",
      "(189, 2898300, 'P6AB57', 84, 45, -55, '65819a', 'B9305c', 'P6AB55-12-2-12-5', 'C1614', 'GB_Quad')\n",
      "(190, 2945188, 'P6AB59', 30, -25, 9, 'BFfFBf', '86FEB7', 'P6AB55-12-2-12-6', 'C1613', 'GB_Trio')\n",
      "(191, 7387013, 'P6AB55', 83, 53, -93, 'Ebf1B5', 'b5aDa1', 'P6AB55-12-3-12-5', 'C1613', 'GB_Trio')\n",
      "(192, 5487250, 'P6AB56', 85, 58, 80, 'c1AE1d', 'cEaCec', 'P6AB55-12-2-12-5', 'C1610', 'GB_Quad')\n",
      "(193, 7572114, 'P6AB58', 13, 45, 87, '2F7540', 'A2dD89', 'P6AB55-12-2-12-5', 'C1610', 'GB_Penta')\n",
      "(194, 9813268, 'P6AB58', 3, 41, -58, 'cFbe63', 'bd2cCb', 'P6AB55-12-2-12-5', 'C1611', 'GB_Penta')\n",
      "(195, 2200147, 'P6AB57', 18, -87, -95, '5cFCE7', '1c45B7', 'P6AB55-12-2-13-5', 'C1611', 'GB_Duo')\n",
      "(196, 1269478, 'P6AB58', 31, 44, 32, 'ACddBa', 'bD3dA6', 'P6AB55-12-2-12-5', 'C1613', 'GB_Duo')\n",
      "(197, 2017700, 'P6AB57', 31, -69, 87, 'Fca4FD', 'A5e73E', 'P6AB55-12-2-12-4', 'C1611', 'GB_Mono')\n",
      "(198, 7272998, 'P6AB56', 70, 58, -65, 'f724A3', 'Be25cc', 'P6AB55-12-2-12-6', 'C1612', 'GB_Mono')\n",
      "(199, 8254292, 'P6AB58', 15, 42, -39, '6aeD8D', 'BbE9EE', 'P6AB55-12-2-12-5', 'C1611', 'GB_Mono')\n",
      "(200, 763146, 'P6AB57', 46, 61, 17, 'ab6dF1', 'BBB804', 'P6AB55-12-2-13-5', 'C1614', 'GB_Quad')\n"
     ]
    }
   ],
   "source": [
    "try:\n",
    "   connection=psycopg.connect(\n",
    "          host=localhost,\n",
    "          dbname=database,\n",
    "          user=username,\n",
    "          password=pwd,\n",
    "          port=port_id\n",
    "   )\n",
    "   print(\"Connected to the PostgreSQL database successfully!\")\n",
    "#    cur = conn.cursor()\n",
    "   cursor = connection.cursor()\n",
    "   # Execute an SQL query to read data from the table\n",
    "   query = 'SELECT * FROM datatable'\n",
    "   cursor.execute(query)\n",
    "\n",
    "   # Fetch all the rows returned by the query\n",
    "   rows = cursor.fetchall()\n",
    "\n",
    "   # You can now work with the fetched data\n",
    "   for row in rows:\n",
    "    # Each row is a tuple, you can access the values using index\n",
    "    print(row)\n",
    "except Exception as error:\n",
    "       print(error)\n",
    "finally:\n",
    "    if cur is not None:\n",
    "           cur.close()\n",
    "    if connection is not None:\n",
    "           connection.close()"
   ]
  },
  {
   "cell_type": "code",
   "execution_count": 21,
   "id": "5936d66e",
   "metadata": {
    "scrolled": true
   },
   "outputs": [
    {
     "name": "stdout",
     "output_type": "stream",
     "text": [
      "[{'Serial.no': 1, 'genealogy_id': 6791690, 'wafer_lot_id': 'P6AB55', 'wafer_id_db': 24, 'x': 46, 'y': -54, 'ecid1': '0x9a514680', 'ecid2': '0x40c34cc2', 'part_id': 'P6AB55-12-3-12-5', 'product': 'C1613', 'product_name': 'GB_Trio'}, {'Serial.no': 2, 'genealogy_id': 5696696, 'wafer_lot_id': 'P6AB57', 'wafer_id_db': 43, 'x': 98, 'y': 5, 'ecid1': '0x9a514681', 'ecid2': '0x40c34cc3', 'part_id': 'P6AB55-12-2-12-5', 'product': 'C1610', 'product_name': 'GB_Quad'}, {'Serial.no': 3, 'genealogy_id': 5499025, 'wafer_lot_id': 'P6AB57', 'wafer_id_db': 68, 'x': 38, 'y': 84, 'ecid1': '0x9a514682', 'ecid2': '0x40c34cc4', 'part_id': 'P6AB55-12-2-12-5', 'product': 'C1612', 'product_name': 'GB_Mono'}, {'Serial.no': 4, 'genealogy_id': 774786, 'wafer_lot_id': 'P6AB59', 'wafer_id_db': 60, 'x': 89, 'y': -73, 'ecid1': '0x9a514683', 'ecid2': '0x40c34cc5', 'part_id': 'P6AB55-12-2-12-6', 'product': 'C1612', 'product_name': 'GB_Mono'}, {'Serial.no': 5, 'genealogy_id': 7247592, 'wafer_lot_id': 'P6AB57', 'wafer_id_db': 5, 'x': 76, 'y': -33, 'ecid1': '0x9a514684', 'ecid2': '0x40c34cc6', 'part_id': 'P6AB55-12-2-12-5', 'product': 'C1614', 'product_name': 'GB_Penta'}, {'Serial.no': 6, 'genealogy_id': 3265314, 'wafer_lot_id': 'P6AB55', 'wafer_id_db': 5, 'x': 25, 'y': -94, 'ecid1': nan, 'ecid2': nan, 'part_id': 'P6AB55-12-2-12-5', 'product': 'C1612', 'product_name': 'GB_Penta'}, {'Serial.no': 7, 'genealogy_id': 5050853, 'wafer_lot_id': 'P6AB56', 'wafer_id_db': 88, 'x': 6, 'y': -6, 'ecid1': '0x9a514686', 'ecid2': '0x40c34cc8', 'part_id': 'P6AB55-12-3-12-5', 'product': 'C1610', 'product_name': 'GB_Mono'}, {'Serial.no': 8, 'genealogy_id': 5509475, 'wafer_lot_id': 'P6AB57', 'wafer_id_db': 80, 'x': 5, 'y': -38, 'ecid1': '0x9a514687', 'ecid2': '0x40c34cc9', 'part_id': 'P6AB55-12-2-13-5', 'product': 'C1612', 'product_name': 'GB_Penta'}, {'Serial.no': 9, 'genealogy_id': 4475933, 'wafer_lot_id': 'P6AB57', 'wafer_id_db': 56, 'x': -98, 'y': 18, 'ecid1': '0x9a514688', 'ecid2': '0x40c34cc10', 'part_id': 'P6AB55-12-2-12-6', 'product': 'C1610', 'product_name': 'GB_Trio'}, {'Serial.no': 10, 'genealogy_id': 1837039, 'wafer_lot_id': 'P6AB59', 'wafer_id_db': 85, 'x': -9, 'y': -15, 'ecid1': '0x9a514689', 'ecid2': '0x40c34cc11', 'part_id': 'P6AB55-12-2-12-6', 'product': 'C1610', 'product_name': 'GB_Duo'}, {'Serial.no': 11, 'genealogy_id': 5365329, 'wafer_lot_id': 'P6AB57', 'wafer_id_db': 33, 'x': -76, 'y': 77, 'ecid1': '0x9a514689', 'ecid2': '0x40c34cc12', 'part_id': 'P6AB55-12-3-12-5', 'product': 'C1611', 'product_name': 'GB_Penta'}, {'Serial.no': 12, 'genealogy_id': 1331785, 'wafer_lot_id': 'P6AB58', 'wafer_id_db': 59, 'x': 26, 'y': -52, 'ecid1': '0x9a514690', 'ecid2': '0x40c34cc13', 'part_id': 'P6AB55-12-2-12-4', 'product': 'C1610', 'product_name': 'GB_Quad'}, {'Serial.no': 13, 'genealogy_id': 4247320, 'wafer_lot_id': 'P6AB56', 'wafer_id_db': 41, 'x': 45, 'y': 90, 'ecid1': '0x0', 'ecid2': '0x0', 'part_id': 'P6AB55-12-2-12-5', 'product': 'C1614', 'product_name': 'GB_Duo'}, {'Serial.no': 14, 'genealogy_id': 3683171, 'wafer_lot_id': 'P6AB56', 'wafer_id_db': 23, 'x': -63, 'y': -84, 'ecid1': '0x9a514692', 'ecid2': '0x40c34cc15', 'part_id': 'P6AB55-12-2-12-4', 'product': 'C1610', 'product_name': 'GB_Duo'}, {'Serial.no': 15, 'genealogy_id': 5300800, 'wafer_lot_id': 'P6AB56', 'wafer_id_db': 68, 'x': 79, 'y': 54, 'ecid1': '0x9a514693', 'ecid2': '0x40c34cc16', 'part_id': 'P6AB55-12-2-12-4', 'product': 'C1614', 'product_name': 'GB_Mono'}, {'Serial.no': 16, 'genealogy_id': 4767948, 'wafer_lot_id': 'P6AB57', 'wafer_id_db': 7, 'x': -32, 'y': -97, 'ecid1': '0x9a514694', 'ecid2': '0x40c34cc17', 'part_id': 'P6AB55-12-2-12-4', 'product': 'C1610', 'product_name': 'GB_Mono'}, {'Serial.no': 17, 'genealogy_id': 597276, 'wafer_lot_id': 'P6AB57', 'wafer_id_db': 7, 'x': 100, 'y': -51, 'ecid1': '0x9a514695', 'ecid2': '0x40c34cc18', 'part_id': 'P6AB55-12-2-12-6', 'product': 'C1613', 'product_name': 'GB_Duo'}, {'Serial.no': 18, 'genealogy_id': 5850010, 'wafer_lot_id': 'P6AB59', 'wafer_id_db': 4, 'x': -19, 'y': -85, 'ecid1': '0x9a514696', 'ecid2': '0x40c34cc19', 'part_id': 'P6AB55-12-2-12-4', 'product': 'C1612', 'product_name': 'GB_Quad'}, {'Serial.no': 19, 'genealogy_id': 9741697, 'wafer_lot_id': 'P6AB59', 'wafer_id_db': 68, 'x': -16, 'y': 75, 'ecid1': '0x9a514697', 'ecid2': '0x40c34cc20', 'part_id': 'P6AB55-12-2-12-5', 'product': 'C1610', 'product_name': 'GB_Duo'}, {'Serial.no': 20, 'genealogy_id': 3561793, 'wafer_lot_id': 'P6AB59', 'wafer_id_db': 49, 'x': -41, 'y': 43, 'ecid1': '0x9a514698', 'ecid2': '0x40c34cc21', 'part_id': 'P6AB55-12-2-12-4', 'product': 'C1614', 'product_name': 'GB_Quad'}, {'Serial.no': 21, 'genealogy_id': 4928655, 'wafer_lot_id': 'P6AB59', 'wafer_id_db': 32, 'x': -47, 'y': -36, 'ecid1': '0x9a514699', 'ecid2': '0x40c34cc22', 'part_id': 'P6AB55-12-3-12-5', 'product': 'C1614', 'product_name': 'GB_Penta'}, {'Serial.no': 22, 'genealogy_id': 3583457, 'wafer_lot_id': 'P6AB55', 'wafer_id_db': 57, 'x': 11, 'y': 45, 'ecid1': '0x9a514700', 'ecid2': '0x40c34cc23', 'part_id': 'P6AB55-12-2-12-6', 'product': 'C1610', 'product_name': 'GB_Penta'}, {'Serial.no': 23, 'genealogy_id': 4902092, 'wafer_lot_id': 'P6AB59', 'wafer_id_db': 60, 'x': 46, 'y': 41, 'ecid1': '0x0', 'ecid2': '0x0', 'part_id': 'P6AB55-12-3-12-5', 'product': 'C1613', 'product_name': 'GB_Penta'}, {'Serial.no': 24, 'genealogy_id': 77854, 'wafer_lot_id': nan, 'wafer_id_db': 82, 'x': 98, 'y': -97, 'ecid1': '0x9a514702', 'ecid2': '0x40c34cc25', 'part_id': 'P6AB55-12-2-13-5', 'product': 'C1614', 'product_name': 'GB_Mono'}, {'Serial.no': 25, 'genealogy_id': 9345438, 'wafer_lot_id': 'P6AB56', 'wafer_id_db': 87, 'x': -95, 'y': -86, 'ecid1': '0x9a514702', 'ecid2': '0x40c34cc26', 'part_id': 'P6AB55-12-2-12-6', 'product': 'C1610', 'product_name': 'GB_Duo'}, {'Serial.no': 26, 'genealogy_id': 2367599, 'wafer_lot_id': 'P6AB57', 'wafer_id_db': 9, 'x': 87, 'y': -38, 'ecid1': '0x9a514703', 'ecid2': '0x40c34cc27', 'part_id': 'P6AB55-12-2-13-5', 'product': 'C1610', 'product_name': 'GB_Mono'}, {'Serial.no': 27, 'genealogy_id': 4015053, 'wafer_lot_id': 'P6AB55', 'wafer_id_db': 62, 'x': 45, 'y': 6, 'ecid1': '0x9a514704', 'ecid2': '0x40c34cc27', 'part_id': 'P6AB55-12-2-13-5', 'product': 'C1612', 'product_name': 'GB_Duo'}, {'Serial.no': 28, 'genealogy_id': 4472906, 'wafer_lot_id': 'P6AB57', 'wafer_id_db': 61, 'x': 75, 'y': -80, 'ecid1': '0x9a514705', 'ecid2': '0x410308c4', 'part_id': 'P6AB55-12-3-12-5', 'product': 'C1611', 'product_name': 'GB_Trio'}, {'Serial.no': 29, 'genealogy_id': 2804969, 'wafer_lot_id': 'P6AB55', 'wafer_id_db': 52, 'x': -9, 'y': -26, 'ecid1': '0x9a514706', 'ecid2': '0x410308c5', 'part_id': 'P6AB55-12-3-12-5', 'product': 'C1611', 'product_name': 'GB_Quad'}, {'Serial.no': 30, 'genealogy_id': 4481801, 'wafer_lot_id': 'P6AB55', 'wafer_id_db': 81, 'x': 71, 'y': 72, 'ecid1': '0x9a514707', 'ecid2': '0x410308c6', 'part_id': 'P6AB55-12-2-12-4', 'product': 'C1612', 'product_name': 'GB_Mono'}, {'Serial.no': 31, 'genealogy_id': 7139752, 'wafer_lot_id': 'P6AB55', 'wafer_id_db': 80, 'x': -24, 'y': 32, 'ecid1': '0x9a514708', 'ecid2': '0x410308c7', 'part_id': 'P6AB55-12-2-12-5', 'product': 'C1612', 'product_name': 'GB_Quad'}, {'Serial.no': 32, 'genealogy_id': 1471874, 'wafer_lot_id': 'P6AB56', 'wafer_id_db': 87, 'x': -7, 'y': -76, 'ecid1': '0x9a514709', 'ecid2': '0x410308c8', 'part_id': 'P6AB55-12-2-13-5', 'product': 'C1614', 'product_name': 'GB_Trio'}, {'Serial.no': 33, 'genealogy_id': 684437, 'wafer_lot_id': 'P6AB55', 'wafer_id_db': 31, 'x': -56, 'y': 83, 'ecid1': '0x9a514710', 'ecid2': '0x410308c9', 'part_id': 'P6AB55-12-2-13-5', 'product': 'C1611', 'product_name': 'GB_Duo'}, {'Serial.no': 34, 'genealogy_id': 2870116, 'wafer_lot_id': 'P6AB55', 'wafer_id_db': 10, 'x': 52, 'y': -37, 'ecid1': '0x80e18680', 'ecid2': '0x410308c10', 'part_id': 'P6AB55-12-2-12-4', 'product': 'C1612', 'product_name': 'GB_Mono'}, {'Serial.no': 35, 'genealogy_id': 8419714, 'wafer_lot_id': 'P6AB58', 'wafer_id_db': 14, 'x': 44, 'y': -82, 'ecid1': '0x80e18681', 'ecid2': '0x410308c11', 'part_id': 'P6AB55-12-2-12-4', 'product': 'C1613', 'product_name': 'GB_Mono'}, {'Serial.no': 36, 'genealogy_id': 6195631, 'wafer_lot_id': 'P6AB58', 'wafer_id_db': 58, 'x': -86, 'y': 74, 'ecid1': '0x80e18682', 'ecid2': '0x410308c12', 'part_id': 'P6AB55-12-3-12-5', 'product': 'C1613', 'product_name': 'GB_Trio'}, {'Serial.no': 37, 'genealogy_id': 9424658, 'wafer_lot_id': 'P6AB57', 'wafer_id_db': 98, 'x': -49, 'y': 59, 'ecid1': '0x80e18683', 'ecid2': '0x410308c13', 'part_id': 'P6AB55-12-3-12-5', 'product': 'C1613', 'product_name': 'GB_Duo'}, {'Serial.no': 38, 'genealogy_id': 6105050, 'wafer_lot_id': 'P6AB56', 'wafer_id_db': 84, 'x': 65, 'y': -63, 'ecid1': '0x80e18684', 'ecid2': '0x410308c14', 'part_id': 'P6AB55-12-2-13-5', 'product': 'C1611', 'product_name': 'GB_Mono'}, {'Serial.no': 39, 'genealogy_id': 349133, 'wafer_lot_id': 'P6AB56', 'wafer_id_db': 67, 'x': -14, 'y': 91, 'ecid1': '0x80e18685', 'ecid2': '0x410308c15', 'part_id': 'P6AB55-12-2-12-6', 'product': 'C1611', 'product_name': 'GB_Penta'}, {'Serial.no': 40, 'genealogy_id': 6194887, 'wafer_lot_id': 'P6AB57', 'wafer_id_db': 66, 'x': -55, 'y': 96, 'ecid1': '0x80e18686', 'ecid2': '0x410308c16', 'part_id': 'P6AB55-12-2-12-5', 'product': 'C1613', 'product_name': 'GB_Mono'}, {'Serial.no': 41, 'genealogy_id': 47170, 'wafer_lot_id': 'P6AB56', 'wafer_id_db': 52, 'x': 10, 'y': 56, 'ecid1': '0x80e18687', 'ecid2': '0x410308c17', 'part_id': 'P6AB55-12-2-13-5', 'product': 'C1610', 'product_name': 'GB_Penta'}, {'Serial.no': 42, 'genealogy_id': 9731250, 'wafer_lot_id': 'P6AB59', 'wafer_id_db': 84, 'x': -62, 'y': 100, 'ecid1': '0x80e18688', 'ecid2': '0x410308c18', 'part_id': 'P6AB55-12-2-12-6', 'product': 'C1613', 'product_name': 'GB_Penta'}, {'Serial.no': 43, 'genealogy_id': 9298282, 'wafer_lot_id': 'P6AB58', 'wafer_id_db': 30, 'x': -78, 'y': 67, 'ecid1': '0x80e18689', 'ecid2': '0x410308c19', 'part_id': 'P6AB55-12-2-12-4', 'product': 'C1613', 'product_name': 'GB_Quad'}, {'Serial.no': 44, 'genealogy_id': 1835176, 'wafer_lot_id': 'P6AB57', 'wafer_id_db': 94, 'x': 93, 'y': -27, 'ecid1': '0x80e18690', 'ecid2': '0x410308c20', 'part_id': 'P6AB55-12-2-12-6', 'product': 'C1610', 'product_name': 'GB_Penta'}, {'Serial.no': 45, 'genealogy_id': 4049563, 'wafer_lot_id': 'P6AB56', 'wafer_id_db': 26, 'x': 59, 'y': -90, 'ecid1': '0x80e18691', 'ecid2': '0x410308c21', 'part_id': 'P6AB55-12-2-12-5', 'product': 'C1613', 'product_name': 'GB_Duo'}, {'Serial.no': 46, 'genealogy_id': 8151310, 'wafer_lot_id': 'P6AB59', 'wafer_id_db': 93, 'x': -34, 'y': -64, 'ecid1': '0x80e18692', 'ecid2': '0x410308c22', 'part_id': 'P6AB55-12-2-12-5', 'product': 'C1611', 'product_name': 'GB_Duo'}, {'Serial.no': 47, 'genealogy_id': 6513518, 'wafer_lot_id': 'P6AB56', 'wafer_id_db': 5, 'x': -20, 'y': -88, 'ecid1': '0x80e18693', 'ecid2': '0x410308c23', 'part_id': 'P6AB55-12-2-13-5', 'product': 'C1611', 'product_name': 'GB_Duo'}, {'Serial.no': 48, 'genealogy_id': 7479425, 'wafer_lot_id': 'P6AB57', 'wafer_id_db': 93, 'x': -91, 'y': 47, 'ecid1': '0x80e18694', 'ecid2': '0x410308c24', 'part_id': 'P6AB55-12-2-13-5', 'product': 'C1614', 'product_name': 'GB_Penta'}, {'Serial.no': 49, 'genealogy_id': 6911809, 'wafer_lot_id': 'P6AB56', 'wafer_id_db': 96, 'x': -92, 'y': -25, 'ecid1': '0x80e18695', 'ecid2': '0x410308c25', 'part_id': 'P6AB55-12-2-12-6', 'product': 'C1614', 'product_name': 'GB_Penta'}, {'Serial.no': 50, 'genealogy_id': 8162674, 'wafer_lot_id': 'P6AB59', 'wafer_id_db': 79, 'x': -63, 'y': -56, 'ecid1': '0x80e18696', 'ecid2': '0x410308c25', 'part_id': 'P6AB55-12-2-12-6', 'product': 'C1611', 'product_name': 'GB_Quad'}, {'Serial.no': 51, 'genealogy_id': 1154563, 'wafer_lot_id': 'P6AB55', 'wafer_id_db': 28, 'x': -87, 'y': 100, 'ecid1': '0x80e18697', 'ecid2': '0x410308c25', 'part_id': 'P6AB55-12-2-12-4', 'product': 'C1610', 'product_name': 'GB_Duo'}, {'Serial.no': 52, 'genealogy_id': 209873, 'wafer_lot_id': 'P6AB58', 'wafer_id_db': 91, 'x': 75, 'y': 51, 'ecid1': '0x80e18698', 'ecid2': '0x410308c28', 'part_id': 'P6AB55-12-3-12-5', 'product': 'C1613', 'product_name': 'GB_Mono'}, {'Serial.no': 53, 'genealogy_id': 885252, 'wafer_lot_id': 'P6AB59', 'wafer_id_db': 76, 'x': 90, 'y': 84, 'ecid1': '0x80e18699', 'ecid2': '0x410308c29', 'part_id': 'P6AB55-12-2-12-6', 'product': 'C1611', 'product_name': 'GB_Trio'}, {'Serial.no': 54, 'genealogy_id': 3313622, 'wafer_lot_id': 'P6AB57', 'wafer_id_db': 69, 'x': -43, 'y': 95, 'ecid1': '0x9a514680', 'ecid2': '0x410308c30', 'part_id': 'P6AB55-12-3-12-5', 'product': 'C1612', 'product_name': 'GB_Penta'}, {'Serial.no': 55, 'genealogy_id': 8650579, 'wafer_lot_id': 'P6AB55', 'wafer_id_db': 58, 'x': -68, 'y': -62, 'ecid1': '0x9a514680', 'ecid2': '0x410308c31', 'part_id': 'P6AB55-12-2-12-4', 'product': 'C1610', 'product_name': 'GB_Duo'}, {'Serial.no': 56, 'genealogy_id': 5827224, 'wafer_lot_id': 'P6AB59', 'wafer_id_db': 89, 'x': 51, 'y': -87, 'ecid1': nan, 'ecid2': nan, 'part_id': 'P6AB55-12-2-12-6', 'product': 'C1610', 'product_name': 'GB_Duo'}, {'Serial.no': 57, 'genealogy_id': 3824944, 'wafer_lot_id': 'P6AB55', 'wafer_id_db': 96, 'x': 40, 'y': -64, 'ecid1': '0x9a514681', 'ecid2': '0x410308c33', 'part_id': 'P6AB55-12-2-12-5', 'product': 'C1610', 'product_name': 'GB_Trio'}, {'Serial.no': 58, 'genealogy_id': 5147503, 'wafer_lot_id': 'P6AB58', 'wafer_id_db': 61, 'x': 18, 'y': -47, 'ecid1': '0x9a514682', 'ecid2': '0x410308c34', 'part_id': 'P6AB55-12-2-13-5', 'product': 'C1611', 'product_name': 'GB_Penta'}, {'Serial.no': 59, 'genealogy_id': 5413725, 'wafer_lot_id': 'P6AB58', 'wafer_id_db': 71, 'x': -91, 'y': -54, 'ecid1': '0x9a514683', 'ecid2': '0x410308c35', 'part_id': 'P6AB55-12-2-12-6', 'product': 'C1610', 'product_name': 'GB_Trio'}, {'Serial.no': 60, 'genealogy_id': 450427, 'wafer_lot_id': 'P6AB55', 'wafer_id_db': 1, 'x': 6, 'y': 54, 'ecid1': '0x9a514684', 'ecid2': '0x410308c36', 'part_id': 'P6AB55-12-2-12-5', 'product': 'C1614', 'product_name': 'GB_Mono'}, {'Serial.no': 61, 'genealogy_id': 8374887, 'wafer_lot_id': 'P6AB56', 'wafer_id_db': 29, 'x': -10, 'y': 51, 'ecid1': '0x9a514685', 'ecid2': '0x410308c37', 'part_id': 'P6AB55-12-2-12-5', 'product': 'C1614', 'product_name': 'GB_Mono'}, {'Serial.no': 62, 'genealogy_id': 793145, 'wafer_lot_id': 'P6AB59', 'wafer_id_db': 61, 'x': 4, 'y': 25, 'ecid1': '0x9a514686', 'ecid2': '0x410308c38', 'part_id': 'P6AB55-12-2-12-4', 'product': 'C1610', 'product_name': 'GB_Trio'}, {'Serial.no': 63, 'genealogy_id': 1237865, 'wafer_lot_id': 'P6AB56', 'wafer_id_db': 4, 'x': 25, 'y': 16, 'ecid1': '0x9a514687', 'ecid2': '0x410308c39', 'part_id': 'P6AB55-12-3-12-5', 'product': 'C1610', 'product_name': 'GB_Mono'}, {'Serial.no': 64, 'genealogy_id': 1436606, 'wafer_lot_id': 'P6AB58', 'wafer_id_db': 88, 'x': 43, 'y': -71, 'ecid1': '0x9a514688', 'ecid2': '0x410308c40', 'part_id': 'P6AB55-12-2-12-4', 'product': 'C1613', 'product_name': 'GB_Trio'}, {'Serial.no': 65, 'genealogy_id': 4584117, 'wafer_lot_id': 'P6AB55', 'wafer_id_db': 8, 'x': -55, 'y': -94, 'ecid1': '0x9a514689', 'ecid2': '0x410308c41', 'part_id': 'P6AB55-12-3-12-5', 'product': 'C1613', 'product_name': 'GB_Penta'}, {'Serial.no': 66, 'genealogy_id': 3162331, 'wafer_lot_id': 'P6AB57', 'wafer_id_db': 53, 'x': -45, 'y': 54, 'ecid1': '0x9a514690', 'ecid2': '0x410308c42', 'part_id': 'P6AB55-12-2-12-6', 'product': 'C1612', 'product_name': 'GB_Mono'}, {'Serial.no': 67, 'genealogy_id': 6376299, 'wafer_lot_id': 'P6AB58', 'wafer_id_db': 4, 'x': -29, 'y': -27, 'ecid1': '0x9a514691', 'ecid2': '0x410308c43', 'part_id': 'P6AB55-12-3-12-5', 'product': 'C1610', 'product_name': 'GB_Penta'}, {'Serial.no': 68, 'genealogy_id': 8840508, 'wafer_lot_id': 'P6AB59', 'wafer_id_db': 95, 'x': -86, 'y': 2, 'ecid1': '0x9a514692', 'ecid2': '0x410308c44', 'part_id': 'P6AB55-12-2-13-5', 'product': 'C1614', 'product_name': 'GB_Trio'}, {'Serial.no': 69, 'genealogy_id': 6376239, 'wafer_lot_id': 'P6AB58', 'wafer_id_db': 81, 'x': 81, 'y': 0, 'ecid1': '0x9a514693', 'ecid2': '0x410308c45', 'part_id': 'P6AB55-12-2-13-5', 'product': 'C1612', 'product_name': 'GB_Mono'}, {'Serial.no': 70, 'genealogy_id': 2489035, 'wafer_lot_id': 'P6AB56', 'wafer_id_db': 4, 'x': 56, 'y': 53, 'ecid1': '0x9a514694', 'ecid2': '0x410308c46', 'part_id': 'P6AB55-12-2-12-4', 'product': 'C1610', 'product_name': 'GB_Mono'}, {'Serial.no': 71, 'genealogy_id': 1430522, 'wafer_lot_id': 'P6AB58', 'wafer_id_db': 91, 'x': 56, 'y': -90, 'ecid1': '0x9a514695', 'ecid2': '0x410308c47', 'part_id': 'P6AB55-12-3-12-5', 'product': 'C1610', 'product_name': 'GB_Trio'}, {'Serial.no': 72, 'genealogy_id': 7493360, 'wafer_lot_id': 'P6AB57', 'wafer_id_db': 82, 'x': -92, 'y': -30, 'ecid1': '0x9a514696', 'ecid2': '0x410308c48', 'part_id': 'P6AB55-12-2-12-4', 'product': 'C1610', 'product_name': 'GB_Quad'}, {'Serial.no': 73, 'genealogy_id': 8859980, 'wafer_lot_id': 'P6AB56', 'wafer_id_db': 28, 'x': 98, 'y': 24, 'ecid1': '0x9a514697', 'ecid2': '0x410308c49', 'part_id': 'P6AB55-12-3-12-5', 'product': 'C1614', 'product_name': 'GB_Mono'}, {'Serial.no': 74, 'genealogy_id': 901849, 'wafer_lot_id': 'P6AB59', 'wafer_id_db': 98, 'x': 64, 'y': -85, 'ecid1': '0x9a514698', 'ecid2': '0x410308c50', 'part_id': 'P6AB55-12-2-12-4', 'product': 'C1612', 'product_name': 'GB_Penta'}, {'Serial.no': 75, 'genealogy_id': 2568358, 'wafer_lot_id': 'P6AB55', 'wafer_id_db': 50, 'x': 72, 'y': 53, 'ecid1': '0x9a514699', 'ecid2': '0x410308c51', 'part_id': 'P6AB55-12-2-12-5', 'product': 'C1610', 'product_name': 'GB_Penta'}, {'Serial.no': 76, 'genealogy_id': 8749143, 'wafer_lot_id': 'P6AB59', 'wafer_id_db': 29, 'x': 31, 'y': -50, 'ecid1': '0x9a514700', 'ecid2': '0x410308c52', 'part_id': 'P6AB55-12-2-13-5', 'product': 'C1614', 'product_name': 'GB_Duo'}, {'Serial.no': 77, 'genealogy_id': 4253599, 'wafer_lot_id': 'P6AB58', 'wafer_id_db': 96, 'x': 77, 'y': -33, 'ecid1': '0x9a514701', 'ecid2': '0x410308c53', 'part_id': 'P6AB55-12-2-12-5', 'product': 'C1612', 'product_name': 'GB_Trio'}, {'Serial.no': 78, 'genealogy_id': 6419103, 'wafer_lot_id': 'P6AB58', 'wafer_id_db': 13, 'x': -39, 'y': -100, 'ecid1': '0x9a514702', 'ecid2': '0x410308c54', 'part_id': 'P6AB55-12-2-12-6', 'product': 'C1614', 'product_name': 'GB_Mono'}, {'Serial.no': 79, 'genealogy_id': 1457677, 'wafer_lot_id': 'P6AB59', 'wafer_id_db': 68, 'x': 25, 'y': -91, 'ecid1': '0x9a514703', 'ecid2': '0x410308c55', 'part_id': 'P6AB55-12-2-12-6', 'product': 'C1613', 'product_name': 'GB_Duo'}, {'Serial.no': 80, 'genealogy_id': 6728758, 'wafer_lot_id': 'P6AB59', 'wafer_id_db': 91, 'x': -50, 'y': 46, 'ecid1': '0x9a514704', 'ecid2': '0x410308c56', 'part_id': 'P6AB55-12-2-13-5', 'product': 'C1611', 'product_name': 'GB_Penta'}, {'Serial.no': 81, 'genealogy_id': 4204162, 'wafer_lot_id': 'P6AB59', 'wafer_id_db': 72, 'x': 86, 'y': 36, 'ecid1': '0x9a514705', 'ecid2': '0x410308c57', 'part_id': 'P6AB55-12-2-12-6', 'product': 'C1612', 'product_name': 'GB_Duo'}, {'Serial.no': 82, 'genealogy_id': 9290601, 'wafer_lot_id': 'P6AB56', 'wafer_id_db': 73, 'x': 20, 'y': 10, 'ecid1': '0x9a514706', 'ecid2': '0x410308c58', 'part_id': 'P6AB55-12-3-12-5', 'product': 'C1610', 'product_name': 'GB_Trio'}, {'Serial.no': 83, 'genealogy_id': 7017409, 'wafer_lot_id': 'P6AB58', 'wafer_id_db': 26, 'x': -77, 'y': -68, 'ecid1': '0x9a514707', 'ecid2': '0x410308c59', 'part_id': 'P6AB55-12-2-12-5', 'product': 'C1614', 'product_name': 'GB_Quad'}, {'Serial.no': 84, 'genealogy_id': 7510969, 'wafer_lot_id': 'P6AB58', 'wafer_id_db': 57, 'x': 0, 'y': 8, 'ecid1': '0x9a514708', 'ecid2': '0x410308c60', 'part_id': 'P6AB55-12-2-12-4', 'product': 'C1613', 'product_name': 'GB_Penta'}, {'Serial.no': 85, 'genealogy_id': 8838469, 'wafer_lot_id': 'P6AB57', 'wafer_id_db': 27, 'x': 29, 'y': 3, 'ecid1': '0x9a514709', 'ecid2': '0x410308c61', 'part_id': 'P6AB55-12-2-12-5', 'product': 'C1614', 'product_name': 'GB_Duo'}, {'Serial.no': 86, 'genealogy_id': 974202, 'wafer_lot_id': 'P6AB57', 'wafer_id_db': 46, 'x': 68, 'y': 70, 'ecid1': '0x9a514710', 'ecid2': '0x410308c62', 'part_id': 'P6AB55-12-2-12-6', 'product': 'C1612', 'product_name': 'GB_Mono'}, {'Serial.no': 87, 'genealogy_id': 1574803, 'wafer_lot_id': 'P6AB57', 'wafer_id_db': 36, 'x': -36, 'y': -93, 'ecid1': '0x9a514711', 'ecid2': '0x410308c63', 'part_id': 'P6AB55-12-3-12-5', 'product': 'C1612', 'product_name': 'GB_Mono'}, {'Serial.no': 88, 'genealogy_id': 8754171, 'wafer_lot_id': 'P6AB59', 'wafer_id_db': 69, 'x': 98, 'y': 86, 'ecid1': '0x9a514712', 'ecid2': '0x410308c64', 'part_id': 'P6AB55-12-3-12-5', 'product': 'C1610', 'product_name': 'GB_Duo'}, {'Serial.no': 89, 'genealogy_id': 7021654, 'wafer_lot_id': 'P6AB57', 'wafer_id_db': 36, 'x': 27, 'y': 6, 'ecid1': '0x9a514713', 'ecid2': '0x410308c65', 'part_id': 'P6AB55-12-2-12-4', 'product': 'C1614', 'product_name': 'GB_Mono'}, {'Serial.no': 90, 'genealogy_id': 5021697, 'wafer_lot_id': 'P6AB56', 'wafer_id_db': 30, 'x': -93, 'y': 90, 'ecid1': '0x9a514714', 'ecid2': '0x410308c66', 'part_id': 'P6AB55-12-2-13-5', 'product': 'C1611', 'product_name': 'GB_Penta'}, {'Serial.no': 91, 'genealogy_id': 429011, 'wafer_lot_id': 'P6AB57', 'wafer_id_db': 15, 'x': 49, 'y': 37, 'ecid1': '0x9a514715', 'ecid2': '0x410308c67', 'part_id': 'P6AB55-12-2-12-6', 'product': 'C1610', 'product_name': 'GB_Penta'}, {'Serial.no': 92, 'genealogy_id': 1927176, 'wafer_lot_id': 'P6AB56', 'wafer_id_db': 85, 'x': -86, 'y': -11, 'ecid1': '0x9a514716', 'ecid2': '0x410308c68', 'part_id': 'P6AB55-12-2-12-6', 'product': 'C1614', 'product_name': 'GB_Penta'}, {'Serial.no': 93, 'genealogy_id': 6700553, 'wafer_lot_id': 'P6AB58', 'wafer_id_db': 91, 'x': -21, 'y': -93, 'ecid1': '0x9a514717', 'ecid2': '0x410308c69', 'part_id': 'P6AB55-12-2-13-5', 'product': 'C1611', 'product_name': 'GB_Mono'}, {'Serial.no': 94, 'genealogy_id': 546077, 'wafer_lot_id': 'P6AB58', 'wafer_id_db': 77, 'x': -84, 'y': 28, 'ecid1': '0x9a514718', 'ecid2': '0x410308c70', 'part_id': 'P6AB55-12-2-12-6', 'product': 'C1613', 'product_name': 'GB_Trio'}, {'Serial.no': 95, 'genealogy_id': 4802728, 'wafer_lot_id': 'P6AB58', 'wafer_id_db': 62, 'x': -25, 'y': 95, 'ecid1': '0x9a514719', 'ecid2': '0x410308c71', 'part_id': 'P6AB55-12-2-12-6', 'product': 'C1610', 'product_name': 'GB_Mono'}, {'Serial.no': 96, 'genealogy_id': 4206248, 'wafer_lot_id': 'P6AB55', 'wafer_id_db': 60, 'x': 7, 'y': -98, 'ecid1': '0x9a514720', 'ecid2': '0x410308c72', 'part_id': 'P6AB55-12-3-12-5', 'product': 'C1611', 'product_name': 'GB_Penta'}, {'Serial.no': 97, 'genealogy_id': 9521306, 'wafer_lot_id': 'P6AB57', 'wafer_id_db': 64, 'x': -8, 'y': 64, 'ecid1': '0x9a514721', 'ecid2': '0x410308c73', 'part_id': 'P6AB55-12-2-13-5', 'product': 'C1610', 'product_name': 'GB_Trio'}, {'Serial.no': 98, 'genealogy_id': 6468399, 'wafer_lot_id': 'P6AB55', 'wafer_id_db': 22, 'x': -16, 'y': -48, 'ecid1': '0x9a514722', 'ecid2': '0x410308c74', 'part_id': 'P6AB55-12-2-12-6', 'product': 'C1613', 'product_name': 'GB_Duo'}, {'Serial.no': 99, 'genealogy_id': 1154588, 'wafer_lot_id': 'P6AB55', 'wafer_id_db': 86, 'x': -28, 'y': 51, 'ecid1': '0x9a514723', 'ecid2': '0x410308c75', 'part_id': 'P6AB55-12-2-12-4', 'product': 'C1614', 'product_name': 'GB_Mono'}, {'Serial.no': 100, 'genealogy_id': 3070024, 'wafer_lot_id': 'P6AB58', 'wafer_id_db': 18, 'x': 58, 'y': 66, 'ecid1': '0x9a514724', 'ecid2': '0x410308c76', 'part_id': 'P6AB55-12-2-12-6', 'product': 'C1611', 'product_name': 'GB_Penta'}, {'Serial.no': 101, 'genealogy_id': 1106041, 'wafer_lot_id': 'P6AB59', 'wafer_id_db': 2, 'x': 36, 'y': 91, 'ecid1': '0x9a514725', 'ecid2': '0x410308c77', 'part_id': 'P6AB55-12-2-12-6', 'product': 'C1614', 'product_name': 'GB_Quad'}, {'Serial.no': 102, 'genealogy_id': 1906732, 'wafer_lot_id': 'P6AB58', 'wafer_id_db': 43, 'x': 35, 'y': 14, 'ecid1': '0x9a514726', 'ecid2': '0x410308c78', 'part_id': 'P6AB55-12-2-13-5', 'product': 'C1612', 'product_name': 'GB_Mono'}, {'Serial.no': 103, 'genealogy_id': 1777100, 'wafer_lot_id': 'P6AB59', 'wafer_id_db': 45, 'x': -98, 'y': 57, 'ecid1': '0x9a514727', 'ecid2': '0x410308c79', 'part_id': 'P6AB55-12-2-12-4', 'product': 'C1610', 'product_name': 'GB_Mono'}, {'Serial.no': 104, 'genealogy_id': 4882591, 'wafer_lot_id': 'P6AB58', 'wafer_id_db': 2, 'x': -45, 'y': 89, 'ecid1': '0x9a514728', 'ecid2': '0x410308c80', 'part_id': 'P6AB55-12-2-12-6', 'product': 'C1612', 'product_name': 'GB_Trio'}, {'Serial.no': 105, 'genealogy_id': 8077037, 'wafer_lot_id': 'P6AB56', 'wafer_id_db': 52, 'x': 16, 'y': -95, 'ecid1': '0x9a514729', 'ecid2': '0x410308c81', 'part_id': 'P6AB55-12-2-12-4', 'product': 'C1612', 'product_name': 'GB_Penta'}, {'Serial.no': 106, 'genealogy_id': 6236770, 'wafer_lot_id': 'P6AB57', 'wafer_id_db': 20, 'x': -100, 'y': 85, 'ecid1': '0x9a514730', 'ecid2': '0x410308c82', 'part_id': 'P6AB55-12-2-12-6', 'product': 'C1614', 'product_name': 'GB_Duo'}, {'Serial.no': 107, 'genealogy_id': 9265395, 'wafer_lot_id': 'P6AB59', 'wafer_id_db': 17, 'x': -64, 'y': 45, 'ecid1': '0x9a514731', 'ecid2': '0x410308c83', 'part_id': 'P6AB55-12-2-12-6', 'product': 'C1613', 'product_name': 'GB_Duo'}, {'Serial.no': 108, 'genealogy_id': 7028117, 'wafer_lot_id': 'P6AB56', 'wafer_id_db': 32, 'x': 57, 'y': -19, 'ecid1': '0x9a514732', 'ecid2': '0x410308c84', 'part_id': 'P6AB55-12-2-13-5', 'product': 'C1612', 'product_name': 'GB_Mono'}, {'Serial.no': 109, 'genealogy_id': 48916, 'wafer_lot_id': 'P6AB56', 'wafer_id_db': 76, 'x': -81, 'y': 17, 'ecid1': '0x9a514733', 'ecid2': '0x410308c85', 'part_id': 'P6AB55-12-2-12-4', 'product': 'C1611', 'product_name': 'GB_Duo'}, {'Serial.no': 110, 'genealogy_id': 7110147, 'wafer_lot_id': 'P6AB58', 'wafer_id_db': 28, 'x': -3, 'y': -34, 'ecid1': '0x9a514734', 'ecid2': '0x410308c86', 'part_id': 'P6AB55-12-3-12-5', 'product': 'C1614', 'product_name': 'GB_Duo'}, {'Serial.no': 111, 'genealogy_id': 3711843, 'wafer_lot_id': 'P6AB57', 'wafer_id_db': 18, 'x': -26, 'y': 15, 'ecid1': '0x9a514735', 'ecid2': '0x410308c87', 'part_id': 'P6AB55-12-2-12-6', 'product': 'C1612', 'product_name': 'GB_Mono'}, {'Serial.no': 112, 'genealogy_id': 4978030, 'wafer_lot_id': 'P6AB58', 'wafer_id_db': 93, 'x': 73, 'y': 83, 'ecid1': '0x9a514736', 'ecid2': '0x410308c88', 'part_id': 'P6AB55-12-2-12-6', 'product': 'C1611', 'product_name': 'GB_Penta'}, {'Serial.no': 113, 'genealogy_id': 2972010, 'wafer_lot_id': 'P6AB56', 'wafer_id_db': 9, 'x': -16, 'y': -4, 'ecid1': '0x9a514737', 'ecid2': '0x410308c89', 'part_id': 'P6AB55-12-2-12-6', 'product': 'C1612', 'product_name': 'GB_Mono'}, {'Serial.no': 114, 'genealogy_id': 9395068, 'wafer_lot_id': 'P6AB56', 'wafer_id_db': 91, 'x': 95, 'y': 23, 'ecid1': '0x9a514738', 'ecid2': '0x410308c90', 'part_id': 'P6AB55-12-2-12-5', 'product': 'C1610', 'product_name': 'GB_Trio'}, {'Serial.no': 115, 'genealogy_id': 7287490, 'wafer_lot_id': 'P6AB59', 'wafer_id_db': 16, 'x': 32, 'y': -58, 'ecid1': '0x9a514739', 'ecid2': '0x410308c91', 'part_id': 'P6AB55-12-2-13-5', 'product': 'C1612', 'product_name': 'GB_Trio'}, {'Serial.no': 116, 'genealogy_id': 4804638, 'wafer_lot_id': 'P6AB56', 'wafer_id_db': 74, 'x': 82, 'y': 36, 'ecid1': '0x9a514740', 'ecid2': '0x410308c92', 'part_id': 'P6AB55-12-2-12-5', 'product': 'C1611', 'product_name': 'GB_Penta'}, {'Serial.no': 117, 'genealogy_id': 2124484, 'wafer_lot_id': 'P6AB58', 'wafer_id_db': 6, 'x': -83, 'y': -92, 'ecid1': '0x9a514741', 'ecid2': '0x410308c93', 'part_id': 'P6AB55-12-2-12-4', 'product': 'C1613', 'product_name': 'GB_Trio'}, {'Serial.no': 118, 'genealogy_id': 4487614, 'wafer_lot_id': 'P6AB55', 'wafer_id_db': 71, 'x': 39, 'y': -61, 'ecid1': '0x9a514742', 'ecid2': '0x410308c94', 'part_id': 'P6AB55-12-2-12-4', 'product': 'C1614', 'product_name': 'GB_Mono'}, {'Serial.no': 119, 'genealogy_id': 2535704, 'wafer_lot_id': 'P6AB57', 'wafer_id_db': 89, 'x': 95, 'y': 12, 'ecid1': '0x9a514743', 'ecid2': '0x410308c95', 'part_id': 'P6AB55-12-2-13-5', 'product': 'C1613', 'product_name': 'GB_Duo'}, {'Serial.no': 120, 'genealogy_id': 7067360, 'wafer_lot_id': 'P6AB57', 'wafer_id_db': 52, 'x': -47, 'y': -87, 'ecid1': '0x9a514744', 'ecid2': '0x410308c96', 'part_id': 'P6AB55-12-2-12-6', 'product': 'C1612', 'product_name': 'GB_Mono'}, {'Serial.no': 121, 'genealogy_id': 4960540, 'wafer_lot_id': 'P6AB56', 'wafer_id_db': 98, 'x': -95, 'y': 20, 'ecid1': '0x9a514745', 'ecid2': '0x410308c97', 'part_id': 'P6AB55-12-3-12-5', 'product': 'C1613', 'product_name': 'GB_Trio'}, {'Serial.no': 122, 'genealogy_id': 9246885, 'wafer_lot_id': 'P6AB57', 'wafer_id_db': 7, 'x': 92, 'y': 82, 'ecid1': '0x9a514746', 'ecid2': '0x410308c98', 'part_id': 'P6AB55-12-3-12-5', 'product': 'C1614', 'product_name': 'GB_Mono'}, {'Serial.no': 123, 'genealogy_id': 5359805, 'wafer_lot_id': 'P6AB55', 'wafer_id_db': 93, 'x': 60, 'y': -17, 'ecid1': '0x9a514747', 'ecid2': '0x410308c99', 'part_id': 'P6AB55-12-2-13-5', 'product': 'C1613', 'product_name': 'GB_Mono'}, {'Serial.no': 124, 'genealogy_id': 1564940, 'wafer_lot_id': 'P6AB59', 'wafer_id_db': 42, 'x': -75, 'y': -59, 'ecid1': '0x9a514748', 'ecid2': '0x410308c100', 'part_id': 'P6AB55-12-2-12-5', 'product': 'C1614', 'product_name': 'GB_Quad'}, {'Serial.no': 125, 'genealogy_id': 8226293, 'wafer_lot_id': 'P6AB55', 'wafer_id_db': 17, 'x': 36, 'y': 4, 'ecid1': '0x9a514749', 'ecid2': '0x410308c101', 'part_id': 'P6AB55-12-2-13-5', 'product': 'C1612', 'product_name': 'GB_Quad'}, {'Serial.no': 126, 'genealogy_id': 6970042, 'wafer_lot_id': 'P6AB55', 'wafer_id_db': 86, 'x': 91, 'y': 43, 'ecid1': '0x9a514750', 'ecid2': '0x410308c102', 'part_id': 'P6AB55-12-2-12-6', 'product': 'C1613', 'product_name': 'GB_Mono'}, {'Serial.no': 127, 'genealogy_id': 712577, 'wafer_lot_id': 'P6AB56', 'wafer_id_db': 79, 'x': -62, 'y': -37, 'ecid1': '0x9a514751', 'ecid2': '0x410308c103', 'part_id': 'P6AB55-12-2-12-6', 'product': 'C1611', 'product_name': 'GB_Duo'}, {'Serial.no': 128, 'genealogy_id': 2176166, 'wafer_lot_id': 'P6AB57', 'wafer_id_db': 59, 'x': -28, 'y': -59, 'ecid1': '0x9a514752', 'ecid2': '0x410308c104', 'part_id': 'P6AB55-12-2-12-4', 'product': 'C1612', 'product_name': 'GB_Quad'}, {'Serial.no': 129, 'genealogy_id': 7585922, 'wafer_lot_id': 'P6AB56', 'wafer_id_db': 15, 'x': -57, 'y': 99, 'ecid1': '0x9a514753', 'ecid2': '0x410308c105', 'part_id': 'P6AB55-12-3-12-5', 'product': 'C1611', 'product_name': 'GB_Quad'}, {'Serial.no': 130, 'genealogy_id': 5576142, 'wafer_lot_id': 'P6AB56', 'wafer_id_db': 98, 'x': -22, 'y': -43, 'ecid1': '0x9a514754', 'ecid2': '0x410308c106', 'part_id': 'P6AB55-12-2-13-5', 'product': 'C1614', 'product_name': 'GB_Quad'}, {'Serial.no': 131, 'genealogy_id': 8366675, 'wafer_lot_id': 'P6AB59', 'wafer_id_db': 26, 'x': 64, 'y': -100, 'ecid1': '0x9a514755', 'ecid2': '0x410308c107', 'part_id': 'P6AB55-12-2-12-5', 'product': 'C1614', 'product_name': 'GB_Mono'}, {'Serial.no': 132, 'genealogy_id': 5049443, 'wafer_lot_id': 'P6AB59', 'wafer_id_db': 76, 'x': 10, 'y': -71, 'ecid1': '0x9a514756', 'ecid2': '0x410308c108', 'part_id': 'P6AB55-12-3-12-5', 'product': 'C1614', 'product_name': 'GB_Duo'}, {'Serial.no': 133, 'genealogy_id': 8841280, 'wafer_lot_id': 'P6AB59', 'wafer_id_db': 92, 'x': -14, 'y': -81, 'ecid1': '0x9a514757', 'ecid2': '0x410308c109', 'part_id': 'P6AB55-12-2-12-4', 'product': 'C1611', 'product_name': 'GB_Penta'}, {'Serial.no': 134, 'genealogy_id': 8492805, 'wafer_lot_id': 'P6AB55', 'wafer_id_db': 60, 'x': 28, 'y': -32, 'ecid1': '0x9a514758', 'ecid2': '0x410308c110', 'part_id': 'P6AB55-12-2-12-4', 'product': 'C1613', 'product_name': 'GB_Quad'}, {'Serial.no': 135, 'genealogy_id': 407723, 'wafer_lot_id': 'P6AB59', 'wafer_id_db': 24, 'x': -27, 'y': -31, 'ecid1': '0x9a514759', 'ecid2': '0x410308c111', 'part_id': 'P6AB55-12-3-12-5', 'product': 'C1611', 'product_name': 'GB_Trio'}, {'Serial.no': 136, 'genealogy_id': 9455287, 'wafer_lot_id': 'P6AB56', 'wafer_id_db': 17, 'x': -60, 'y': -10, 'ecid1': '0x9a514760', 'ecid2': '0x410308c111', 'part_id': 'P6AB55-12-3-12-5', 'product': 'C1611', 'product_name': 'GB_Trio'}, {'Serial.no': 137, 'genealogy_id': 8856552, 'wafer_lot_id': 'P6AB59', 'wafer_id_db': 23, 'x': 13, 'y': -33, 'ecid1': '0x9a514761', 'ecid2': '0x410308c111', 'part_id': 'P6AB55-12-2-13-5', 'product': 'C1612', 'product_name': 'GB_Trio'}, {'Serial.no': 138, 'genealogy_id': 7661007, 'wafer_lot_id': 'P6AB58', 'wafer_id_db': 1, 'x': 52, 'y': 80, 'ecid1': '0x9a514762', 'ecid2': '0x410308c112', 'part_id': 'P6AB55-12-2-12-4', 'product': 'C1614', 'product_name': 'GB_Mono'}, {'Serial.no': 139, 'genealogy_id': 5751054, 'wafer_lot_id': 'P6AB59', 'wafer_id_db': 23, 'x': 63, 'y': 81, 'ecid1': '0x9a514763', 'ecid2': '0x410308c113', 'part_id': 'P6AB55-12-3-12-5', 'product': 'C1610', 'product_name': 'GB_Mono'}, {'Serial.no': 140, 'genealogy_id': 1784807, 'wafer_lot_id': 'P6AB56', 'wafer_id_db': 2, 'x': -72, 'y': -55, 'ecid1': '0x9a514764', 'ecid2': '0x410308c114', 'part_id': 'P6AB55-12-3-12-5', 'product': 'C1612', 'product_name': 'GB_Penta'}, {'Serial.no': 141, 'genealogy_id': 1541655, 'wafer_lot_id': 'P6AB59', 'wafer_id_db': 61, 'x': -79, 'y': 68, 'ecid1': '0x9a514765', 'ecid2': '0x410308c115', 'part_id': 'P6AB55-12-2-12-5', 'product': 'C1611', 'product_name': 'GB_Penta'}, {'Serial.no': 142, 'genealogy_id': 9135733, 'wafer_lot_id': 'P6AB57', 'wafer_id_db': 51, 'x': 39, 'y': 68, 'ecid1': '0x9a514766', 'ecid2': '0x410308c116', 'part_id': 'P6AB55-12-2-13-5', 'product': 'C1610', 'product_name': 'GB_Quad'}, {'Serial.no': 143, 'genealogy_id': 4331198, 'wafer_lot_id': 'P6AB57', 'wafer_id_db': 23, 'x': 47, 'y': -69, 'ecid1': '0x9a514767', 'ecid2': '0x410308c117', 'part_id': 'P6AB55-12-2-12-6', 'product': 'C1611', 'product_name': 'GB_Duo'}, {'Serial.no': 144, 'genealogy_id': 6796164, 'wafer_lot_id': 'P6AB56', 'wafer_id_db': 65, 'x': -18, 'y': -52, 'ecid1': '0x9a514768', 'ecid2': '0x410308c118', 'part_id': 'P6AB55-12-2-12-5', 'product': 'C1611', 'product_name': 'GB_Duo'}, {'Serial.no': 145, 'genealogy_id': 5766739, 'wafer_lot_id': 'P6AB56', 'wafer_id_db': 8, 'x': 15, 'y': 66, 'ecid1': '0x9a514769', 'ecid2': '0x410308c119', 'part_id': 'P6AB55-12-3-12-5', 'product': 'C1613', 'product_name': 'GB_Trio'}, {'Serial.no': 146, 'genealogy_id': 1373551, 'wafer_lot_id': 'P6AB59', 'wafer_id_db': 44, 'x': -9, 'y': 62, 'ecid1': '0x9a514770', 'ecid2': '0x410308c120', 'part_id': 'P6AB55-12-2-12-4', 'product': 'C1613', 'product_name': 'GB_Trio'}, {'Serial.no': 147, 'genealogy_id': 8895726, 'wafer_lot_id': 'P6AB55', 'wafer_id_db': 14, 'x': -99, 'y': 86, 'ecid1': '0x9a514771', 'ecid2': '0x410308c121', 'part_id': 'P6AB55-12-2-12-4', 'product': 'C1614', 'product_name': 'GB_Duo'}, {'Serial.no': 148, 'genealogy_id': 8490720, 'wafer_lot_id': 'P6AB55', 'wafer_id_db': 39, 'x': 94, 'y': -80, 'ecid1': '0x9a514772', 'ecid2': '0x410308c122', 'part_id': 'P6AB55-12-3-12-5', 'product': 'C1612', 'product_name': 'GB_Trio'}, {'Serial.no': 149, 'genealogy_id': 5744206, 'wafer_lot_id': 'P6AB56', 'wafer_id_db': 30, 'x': 21, 'y': 73, 'ecid1': '0x9a514773', 'ecid2': '0x410308c123', 'part_id': 'P6AB55-12-2-12-5', 'product': 'C1611', 'product_name': 'GB_Mono'}, {'Serial.no': 150, 'genealogy_id': 5955217, 'wafer_lot_id': 'P6AB56', 'wafer_id_db': 8, 'x': 55, 'y': -11, 'ecid1': '0x9a514774', 'ecid2': '0x410308c124', 'part_id': 'P6AB55-12-2-13-5', 'product': 'C1612', 'product_name': 'GB_Penta'}, {'Serial.no': 151, 'genealogy_id': 4607742, 'wafer_lot_id': 'P6AB56', 'wafer_id_db': 52, 'x': 52, 'y': 8, 'ecid1': '0x9a514775', 'ecid2': '0x410308c125', 'part_id': 'P6AB55-12-2-12-4', 'product': 'C1611', 'product_name': 'GB_Duo'}, {'Serial.no': 152, 'genealogy_id': 9670216, 'wafer_lot_id': 'P6AB56', 'wafer_id_db': 36, 'x': 30, 'y': -98, 'ecid1': '0x9a514776', 'ecid2': '0x410308c126', 'part_id': 'P6AB55-12-2-13-5', 'product': 'C1610', 'product_name': 'GB_Duo'}, {'Serial.no': 153, 'genealogy_id': 9946601, 'wafer_lot_id': 'P6AB56', 'wafer_id_db': 77, 'x': 66, 'y': 94, 'ecid1': '0x9a514777', 'ecid2': '0x410308c127', 'part_id': 'P6AB55-12-2-13-5', 'product': 'C1610', 'product_name': 'GB_Trio'}, {'Serial.no': 154, 'genealogy_id': 5153699, 'wafer_lot_id': 'P6AB57', 'wafer_id_db': 60, 'x': 10, 'y': 67, 'ecid1': '0x9a514778', 'ecid2': '0x410308c128', 'part_id': 'P6AB55-12-2-12-5', 'product': 'C1610', 'product_name': 'GB_Duo'}, {'Serial.no': 155, 'genealogy_id': 6084506, 'wafer_lot_id': 'P6AB56', 'wafer_id_db': 60, 'x': -59, 'y': -72, 'ecid1': '0x9a514779', 'ecid2': '0x410308c129', 'part_id': 'P6AB55-12-3-12-5', 'product': 'C1613', 'product_name': 'GB_Mono'}, {'Serial.no': 156, 'genealogy_id': 6479385, 'wafer_lot_id': 'P6AB57', 'wafer_id_db': 74, 'x': -33, 'y': 12, 'ecid1': '0x9a514780', 'ecid2': '0x410308c130', 'part_id': 'P6AB55-12-2-13-5', 'product': 'C1611', 'product_name': 'GB_Mono'}, {'Serial.no': 157, 'genealogy_id': 6568754, 'wafer_lot_id': 'P6AB55', 'wafer_id_db': 97, 'x': 48, 'y': 33, 'ecid1': '0x9a514781', 'ecid2': '0x410308c131', 'part_id': 'P6AB55-12-2-12-6', 'product': 'C1611', 'product_name': 'GB_Trio'}, {'Serial.no': 158, 'genealogy_id': 7607182, 'wafer_lot_id': 'P6AB56', 'wafer_id_db': 85, 'x': 3, 'y': 31, 'ecid1': '0x9a514782', 'ecid2': '0x410308c132', 'part_id': 'P6AB55-12-3-12-5', 'product': 'C1614', 'product_name': 'GB_Duo'}, {'Serial.no': 159, 'genealogy_id': 9019204, 'wafer_lot_id': 'P6AB55', 'wafer_id_db': 2, 'x': -55, 'y': 6, 'ecid1': '0x9a514783', 'ecid2': '0x410308c133', 'part_id': 'P6AB55-12-2-13-5', 'product': 'C1614', 'product_name': 'GB_Quad'}, {'Serial.no': 160, 'genealogy_id': 4562272, 'wafer_lot_id': 'P6AB57', 'wafer_id_db': 23, 'x': 92, 'y': -42, 'ecid1': '0x9a514784', 'ecid2': '0x410308c134', 'part_id': 'P6AB55-12-2-13-5', 'product': 'C1614', 'product_name': 'GB_Mono'}, {'Serial.no': 161, 'genealogy_id': 1213882, 'wafer_lot_id': 'P6AB59', 'wafer_id_db': 80, 'x': -22, 'y': -71, 'ecid1': '0x9a514785', 'ecid2': '0x410308c135', 'part_id': 'P6AB55-12-2-12-5', 'product': 'C1610', 'product_name': 'GB_Penta'}, {'Serial.no': 162, 'genealogy_id': 6767454, 'wafer_lot_id': 'P6AB55', 'wafer_id_db': 73, 'x': 66, 'y': -52, 'ecid1': '0x9a514786', 'ecid2': '0x410308c136', 'part_id': 'P6AB55-12-2-13-5', 'product': 'C1611', 'product_name': 'GB_Duo'}, {'Serial.no': 163, 'genealogy_id': 1922324, 'wafer_lot_id': 'P6AB57', 'wafer_id_db': 18, 'x': -82, 'y': -40, 'ecid1': '0x9a514787', 'ecid2': '0x410308c137', 'part_id': 'P6AB55-12-2-12-6', 'product': 'C1611', 'product_name': 'GB_Mono'}, {'Serial.no': 164, 'genealogy_id': 8057125, 'wafer_lot_id': 'P6AB55', 'wafer_id_db': 53, 'x': 7, 'y': 95, 'ecid1': '0x9a514788', 'ecid2': '0x410308c138', 'part_id': 'P6AB55-12-2-12-6', 'product': 'C1614', 'product_name': 'GB_Mono'}, {'Serial.no': 165, 'genealogy_id': 3095616, 'wafer_lot_id': 'P6AB55', 'wafer_id_db': 19, 'x': -4, 'y': 10, 'ecid1': '0x9a514789', 'ecid2': '0x410308c139', 'part_id': 'P6AB55-12-2-12-5', 'product': 'C1611', 'product_name': 'GB_Mono'}, {'Serial.no': 166, 'genealogy_id': 4481017, 'wafer_lot_id': 'P6AB55', 'wafer_id_db': 29, 'x': -52, 'y': -52, 'ecid1': '0x9a514790', 'ecid2': '0x410308c140', 'part_id': 'P6AB55-12-3-12-5', 'product': 'C1610', 'product_name': 'GB_Penta'}, {'Serial.no': 167, 'genealogy_id': 9977451, 'wafer_lot_id': 'P6AB58', 'wafer_id_db': 32, 'x': 31, 'y': -20, 'ecid1': '0x9a514791', 'ecid2': '0x410308c141', 'part_id': 'P6AB55-12-3-12-5', 'product': 'C1610', 'product_name': 'GB_Trio'}, {'Serial.no': 168, 'genealogy_id': 5797168, 'wafer_lot_id': 'P6AB58', 'wafer_id_db': 13, 'x': -70, 'y': -1, 'ecid1': '0x9a514792', 'ecid2': '0x410308c142', 'part_id': 'P6AB55-12-2-13-5', 'product': 'C1614', 'product_name': 'GB_Duo'}, {'Serial.no': 169, 'genealogy_id': 7996682, 'wafer_lot_id': 'P6AB57', 'wafer_id_db': 60, 'x': -13, 'y': -83, 'ecid1': '0x9a514793', 'ecid2': '0x410308c143', 'part_id': 'P6AB55-12-2-13-5', 'product': 'C1611', 'product_name': 'GB_Mono'}, {'Serial.no': 170, 'genealogy_id': 7288212, 'wafer_lot_id': 'P6AB55', 'wafer_id_db': 8, 'x': 4, 'y': -48, 'ecid1': '0x9a514794', 'ecid2': '0x410308c144', 'part_id': 'P6AB55-12-3-12-5', 'product': 'C1613', 'product_name': 'GB_Penta'}, {'Serial.no': 171, 'genealogy_id': 5694415, 'wafer_lot_id': 'P6AB56', 'wafer_id_db': 10, 'x': 65, 'y': -91, 'ecid1': '0x9a514795', 'ecid2': '0x410308c145', 'part_id': 'P6AB55-12-3-12-5', 'product': 'C1612', 'product_name': 'GB_Duo'}, {'Serial.no': 172, 'genealogy_id': 4283868, 'wafer_lot_id': 'P6AB56', 'wafer_id_db': 88, 'x': 55, 'y': 50, 'ecid1': '0x9a514796', 'ecid2': '0x410308c146', 'part_id': 'P6AB55-12-2-12-6', 'product': 'C1612', 'product_name': 'GB_Duo'}, {'Serial.no': 173, 'genealogy_id': 7904676, 'wafer_lot_id': 'P6AB55', 'wafer_id_db': 91, 'x': -25, 'y': 88, 'ecid1': '0x9a514797', 'ecid2': '0x410308c147', 'part_id': 'P6AB55-12-2-12-6', 'product': 'C1611', 'product_name': 'GB_Quad'}, {'Serial.no': 174, 'genealogy_id': 4816901, 'wafer_lot_id': 'P6AB56', 'wafer_id_db': 5, 'x': 58, 'y': -5, 'ecid1': '0x9a514798', 'ecid2': '0x410308c148', 'part_id': 'P6AB55-12-2-12-4', 'product': 'C1610', 'product_name': 'GB_Duo'}, {'Serial.no': 175, 'genealogy_id': 1537073, 'wafer_lot_id': 'P6AB55', 'wafer_id_db': 27, 'x': -29, 'y': -80, 'ecid1': '0x9a514799', 'ecid2': '0x410308c149', 'part_id': 'P6AB55-12-2-13-5', 'product': 'C1612', 'product_name': 'GB_Penta'}, {'Serial.no': 176, 'genealogy_id': 9666360, 'wafer_lot_id': 'P6AB56', 'wafer_id_db': 9, 'x': -89, 'y': -30, 'ecid1': '0x9a514800', 'ecid2': '0x410308c150', 'part_id': 'P6AB55-12-2-13-5', 'product': 'C1612', 'product_name': 'GB_Duo'}, {'Serial.no': 177, 'genealogy_id': 5280416, 'wafer_lot_id': 'P6AB55', 'wafer_id_db': 0, 'x': 40, 'y': -42, 'ecid1': '0x9a514801', 'ecid2': '0x410308c151', 'part_id': 'P6AB55-12-2-12-6', 'product': 'C1613', 'product_name': 'GB_Quad'}, {'Serial.no': 178, 'genealogy_id': 4363836, 'wafer_lot_id': 'P6AB57', 'wafer_id_db': 22, 'x': -64, 'y': 10, 'ecid1': '0x9a514802', 'ecid2': '0x410308c152', 'part_id': 'P6AB55-12-2-12-5', 'product': 'C1614', 'product_name': 'GB_Quad'}, {'Serial.no': 179, 'genealogy_id': 11088, 'wafer_lot_id': 'P6AB58', 'wafer_id_db': 62, 'x': 55, 'y': 57, 'ecid1': '0x9a514803', 'ecid2': '0x410308c153', 'part_id': 'P6AB55-12-3-12-5', 'product': 'C1610', 'product_name': 'GB_Penta'}, {'Serial.no': 180, 'genealogy_id': 8099498, 'wafer_lot_id': 'P6AB55', 'wafer_id_db': 83, 'x': -13, 'y': -92, 'ecid1': '0x9a514804', 'ecid2': '0x410308c154', 'part_id': 'P6AB55-12-2-12-5', 'product': 'C1614', 'product_name': 'GB_Quad'}, {'Serial.no': 181, 'genealogy_id': 9480096, 'wafer_lot_id': 'P6AB57', 'wafer_id_db': 77, 'x': 58, 'y': 51, 'ecid1': '0x9a514805', 'ecid2': '0x410308c155', 'part_id': 'P6AB55-12-2-12-6', 'product': 'C1614', 'product_name': 'GB_Mono'}, {'Serial.no': 182, 'genealogy_id': 2359348, 'wafer_lot_id': 'P6AB57', 'wafer_id_db': 42, 'x': -13, 'y': -4, 'ecid1': '0x9a514806', 'ecid2': '0x410308c156', 'part_id': 'P6AB55-12-2-12-6', 'product': 'C1610', 'product_name': 'GB_Quad'}, {'Serial.no': 183, 'genealogy_id': 3633987, 'wafer_lot_id': 'P6AB59', 'wafer_id_db': 95, 'x': -65, 'y': 94, 'ecid1': '0x9a514807', 'ecid2': '0x410308c157', 'part_id': 'P6AB55-12-3-12-5', 'product': 'C1612', 'product_name': 'GB_Mono'}, {'Serial.no': 184, 'genealogy_id': 6471850, 'wafer_lot_id': 'P6AB58', 'wafer_id_db': 77, 'x': 55, 'y': -6, 'ecid1': '0x9a514808', 'ecid2': '0x410308c158', 'part_id': 'P6AB55-12-2-12-6', 'product': 'C1614', 'product_name': 'GB_Mono'}, {'Serial.no': 185, 'genealogy_id': 3237417, 'wafer_lot_id': 'P6AB57', 'wafer_id_db': 13, 'x': 29, 'y': 77, 'ecid1': '0x9a514809', 'ecid2': '0x410308c159', 'part_id': 'P6AB55-12-2-12-4', 'product': 'C1611', 'product_name': 'GB_Duo'}, {'Serial.no': 186, 'genealogy_id': 9245957, 'wafer_lot_id': 'P6AB57', 'wafer_id_db': 89, 'x': 38, 'y': -9, 'ecid1': '0x9a514810', 'ecid2': '0x410308c160', 'part_id': 'P6AB55-12-3-12-5', 'product': 'C1613', 'product_name': 'GB_Penta'}, {'Serial.no': 187, 'genealogy_id': 8077711, 'wafer_lot_id': 'P6AB58', 'wafer_id_db': 27, 'x': -79, 'y': -15, 'ecid1': '0x9a514811', 'ecid2': '0x410308c161', 'part_id': 'P6AB55-12-2-12-6', 'product': 'C1614', 'product_name': 'GB_Penta'}, {'Serial.no': 188, 'genealogy_id': 2592988, 'wafer_lot_id': 'P6AB57', 'wafer_id_db': 13, 'x': -4, 'y': 49, 'ecid1': '0x9a514812', 'ecid2': '0x410308c162', 'part_id': 'P6AB55-12-2-13-5', 'product': 'C1612', 'product_name': 'GB_Duo'}, {'Serial.no': 189, 'genealogy_id': 2898300, 'wafer_lot_id': 'P6AB57', 'wafer_id_db': 84, 'x': 45, 'y': -55, 'ecid1': '0x9a514813', 'ecid2': '0x410308c163', 'part_id': 'P6AB55-12-2-12-5', 'product': 'C1614', 'product_name': 'GB_Quad'}, {'Serial.no': 190, 'genealogy_id': 2945188, 'wafer_lot_id': 'P6AB59', 'wafer_id_db': 30, 'x': -25, 'y': 9, 'ecid1': '0x9a514814', 'ecid2': '0x410308c164', 'part_id': 'P6AB55-12-2-12-6', 'product': 'C1613', 'product_name': 'GB_Trio'}, {'Serial.no': 191, 'genealogy_id': 7387013, 'wafer_lot_id': 'P6AB55', 'wafer_id_db': 83, 'x': 53, 'y': -93, 'ecid1': '0x9a514815', 'ecid2': '0x410308c165', 'part_id': 'P6AB55-12-3-12-5', 'product': 'C1613', 'product_name': 'GB_Trio'}, {'Serial.no': 192, 'genealogy_id': 5487250, 'wafer_lot_id': 'P6AB56', 'wafer_id_db': 85, 'x': 58, 'y': 80, 'ecid1': '0x9a514816', 'ecid2': '0x410308c166', 'part_id': 'P6AB55-12-2-12-5', 'product': 'C1610', 'product_name': 'GB_Quad'}, {'Serial.no': 193, 'genealogy_id': 7572114, 'wafer_lot_id': 'P6AB58', 'wafer_id_db': 13, 'x': 45, 'y': 87, 'ecid1': '0x9a514817', 'ecid2': '0x410308c167', 'part_id': 'P6AB55-12-2-12-5', 'product': 'C1610', 'product_name': 'GB_Penta'}, {'Serial.no': 194, 'genealogy_id': 9813268, 'wafer_lot_id': 'P6AB58', 'wafer_id_db': 3, 'x': 41, 'y': -58, 'ecid1': '0x9a514818', 'ecid2': '0x410308c168', 'part_id': 'P6AB55-12-2-12-5', 'product': 'C1611', 'product_name': 'GB_Penta'}, {'Serial.no': 195, 'genealogy_id': 2200147, 'wafer_lot_id': 'P6AB57', 'wafer_id_db': 18, 'x': -87, 'y': -95, 'ecid1': '0x9a514819', 'ecid2': '0x410308c169', 'part_id': 'P6AB55-12-2-13-5', 'product': 'C1611', 'product_name': 'GB_Duo'}, {'Serial.no': 196, 'genealogy_id': 1269478, 'wafer_lot_id': 'P6AB58', 'wafer_id_db': 31, 'x': 44, 'y': 32, 'ecid1': '0x9a514820', 'ecid2': '0x410308c170', 'part_id': 'P6AB55-12-2-12-5', 'product': 'C1613', 'product_name': 'GB_Duo'}, {'Serial.no': 197, 'genealogy_id': 2017700, 'wafer_lot_id': 'P6AB57', 'wafer_id_db': 31, 'x': -69, 'y': 87, 'ecid1': '0x9a514821', 'ecid2': '0x410308c171', 'part_id': 'P6AB55-12-2-12-4', 'product': 'C1611', 'product_name': 'GB_Mono'}, {'Serial.no': 198, 'genealogy_id': 7272998, 'wafer_lot_id': 'P6AB56', 'wafer_id_db': 70, 'x': 58, 'y': -65, 'ecid1': '0x9a514822', 'ecid2': '0x410308c172', 'part_id': 'P6AB55-12-2-12-6', 'product': 'C1612', 'product_name': 'GB_Mono'}, {'Serial.no': 199, 'genealogy_id': 8254292, 'wafer_lot_id': 'P6AB58', 'wafer_id_db': 15, 'x': 42, 'y': -39, 'ecid1': '0x9a514823', 'ecid2': '0x410308c173', 'part_id': 'P6AB55-12-2-12-5', 'product': 'C1611', 'product_name': 'GB_Mono'}, {'Serial.no': 200, 'genealogy_id': 763146, 'wafer_lot_id': 'P6AB57', 'wafer_id_db': 46, 'x': 61, 'y': 17, 'ecid1': '0x9a514824', 'ecid2': '0x410308c173', 'part_id': 'P6AB55-12-2-13-5', 'product': 'C1614', 'product_name': 'GB_Quad'}]\n"
     ]
    }
   ],
   "source": [
    "import pandas as pd\n",
    "\n",
    "# Assuming you have retrieved the data from the database and stored it in a DataFrame\n",
    "# For demonstration purposes, let's assume the data is stored in a variable called 'df'\n",
    "# Replace 'your_data_file.csv' with the actual path to your CSV file if you are using pandas read_csv() method\n",
    "df = pd.read_csv(r\"C:\\Users\\iseemala\\Downloads\\MOCK_DATA.csv\")\n",
    "\n",
    "# Convert DataFrame to a list of dictionaries\n",
    "wafer_lot_list = df.to_dict('records')\n",
    "\n",
    "# Now, data_list_of_dicts contains your data in the form of a list of dictionaries\n",
    "# Each dictionary represents a row in the DataFrame\n",
    "\n",
    "# You can now use data_list_of_dicts for further processing or analysis\n",
    "print(wafer_lot_list)\n"
   ]
  },
  {
   "cell_type": "code",
   "execution_count": 22,
   "id": "b52aa94d",
   "metadata": {},
   "outputs": [
    {
     "name": "stdout",
     "output_type": "stream",
     "text": [
      "ecid1  ['0x9a514680', '0x9a514681', '0x9a514682', '0x9a514683', '0x9a514684', '0x9a514686', '0x9a514687', '0x9a514688', '0x9a514689', '0x9a514689', '0x9a514690', '0x0', '0x9a514692', '0x9a514693', '0x9a514694', '0x9a514695', '0x9a514696', '0x9a514697', '0x9a514698', '0x9a514699', '0x9a514700', '0x0', '0x9a514702', '0x9a514702', '0x9a514703', '0x9a514704', '0x9a514705', '0x9a514706', '0x9a514707', '0x9a514708', '0x9a514709', '0x9a514710', '0x80e18680', '0x80e18681', '0x80e18682', '0x80e18683', '0x80e18684', '0x80e18685', '0x80e18686', '0x80e18687', '0x80e18688', '0x80e18689', '0x80e18690', '0x80e18691', '0x80e18692', '0x80e18693', '0x80e18694', '0x80e18695', '0x80e18696', '0x80e18697', '0x80e18698', '0x80e18699', '0x9a514680', '0x9a514680', '0x9a514681', '0x9a514682', '0x9a514683', '0x9a514684', '0x9a514685', '0x9a514686', '0x9a514687', '0x9a514688', '0x9a514689', '0x9a514690', '0x9a514691', '0x9a514692', '0x9a514693', '0x9a514694', '0x9a514695', '0x9a514696', '0x9a514697', '0x9a514698', '0x9a514699', '0x9a514700', '0x9a514701', '0x9a514702', '0x9a514703', '0x9a514704', '0x9a514705', '0x9a514706', '0x9a514707', '0x9a514708', '0x9a514709', '0x9a514710', '0x9a514711', '0x9a514712', '0x9a514713', '0x9a514714', '0x9a514715', '0x9a514716', '0x9a514717', '0x9a514718', '0x9a514719', '0x9a514720', '0x9a514721', '0x9a514722', '0x9a514723', '0x9a514724', '0x9a514725', '0x9a514726', '0x9a514727', '0x9a514728', '0x9a514729', '0x9a514730', '0x9a514731', '0x9a514732', '0x9a514733', '0x9a514734', '0x9a514735', '0x9a514736', '0x9a514737', '0x9a514738', '0x9a514739', '0x9a514740', '0x9a514741', '0x9a514742', '0x9a514743', '0x9a514744', '0x9a514745', '0x9a514746', '0x9a514747', '0x9a514748', '0x9a514749', '0x9a514750', '0x9a514751', '0x9a514752', '0x9a514753', '0x9a514754', '0x9a514755', '0x9a514756', '0x9a514757', '0x9a514758', '0x9a514759', '0x9a514760', '0x9a514761', '0x9a514762', '0x9a514763', '0x9a514764', '0x9a514765', '0x9a514766', '0x9a514767', '0x9a514768', '0x9a514769', '0x9a514770', '0x9a514771', '0x9a514772', '0x9a514773', '0x9a514774', '0x9a514775', '0x9a514776', '0x9a514777', '0x9a514778', '0x9a514779', '0x9a514780', '0x9a514781', '0x9a514782', '0x9a514783', '0x9a514784', '0x9a514785', '0x9a514786', '0x9a514787', '0x9a514788', '0x9a514789', '0x9a514790', '0x9a514791', '0x9a514792', '0x9a514793', '0x9a514794', '0x9a514795', '0x9a514796', '0x9a514797', '0x9a514798', '0x9a514799', '0x9a514800', '0x9a514801', '0x9a514802', '0x9a514803', '0x9a514804', '0x9a514805', '0x9a514806', '0x9a514807', '0x9a514808', '0x9a514809', '0x9a514810', '0x9a514811', '0x9a514812', '0x9a514813', '0x9a514814', '0x9a514815', '0x9a514816', '0x9a514817', '0x9a514818', '0x9a514819', '0x9a514820', '0x9a514821', '0x9a514822', '0x9a514823', '0x9a514824'] length of ecid1: 198\n",
      "ecid2  ['0x40c34cc2', '0x40c34cc3', '0x40c34cc4', '0x40c34cc5', '0x40c34cc6', '0x40c34cc8', '0x40c34cc9', '0x40c34cc10', '0x40c34cc11', '0x40c34cc12', '0x40c34cc13', '0x0', '0x40c34cc15', '0x40c34cc16', '0x40c34cc17', '0x40c34cc18', '0x40c34cc19', '0x40c34cc20', '0x40c34cc21', '0x40c34cc22', '0x40c34cc23', '0x0', '0x40c34cc25', '0x40c34cc26', '0x40c34cc27', '0x40c34cc27', '0x410308c4', '0x410308c5', '0x410308c6', '0x410308c7', '0x410308c8', '0x410308c9', '0x410308c10', '0x410308c11', '0x410308c12', '0x410308c13', '0x410308c14', '0x410308c15', '0x410308c16', '0x410308c17', '0x410308c18', '0x410308c19', '0x410308c20', '0x410308c21', '0x410308c22', '0x410308c23', '0x410308c24', '0x410308c25', '0x410308c25', '0x410308c25', '0x410308c28', '0x410308c29', '0x410308c30', '0x410308c31', '0x410308c33', '0x410308c34', '0x410308c35', '0x410308c36', '0x410308c37', '0x410308c38', '0x410308c39', '0x410308c40', '0x410308c41', '0x410308c42', '0x410308c43', '0x410308c44', '0x410308c45', '0x410308c46', '0x410308c47', '0x410308c48', '0x410308c49', '0x410308c50', '0x410308c51', '0x410308c52', '0x410308c53', '0x410308c54', '0x410308c55', '0x410308c56', '0x410308c57', '0x410308c58', '0x410308c59', '0x410308c60', '0x410308c61', '0x410308c62', '0x410308c63', '0x410308c64', '0x410308c65', '0x410308c66', '0x410308c67', '0x410308c68', '0x410308c69', '0x410308c70', '0x410308c71', '0x410308c72', '0x410308c73', '0x410308c74', '0x410308c75', '0x410308c76', '0x410308c77', '0x410308c78', '0x410308c79', '0x410308c80', '0x410308c81', '0x410308c82', '0x410308c83', '0x410308c84', '0x410308c85', '0x410308c86', '0x410308c87', '0x410308c88', '0x410308c89', '0x410308c90', '0x410308c91', '0x410308c92', '0x410308c93', '0x410308c94', '0x410308c95', '0x410308c96', '0x410308c97', '0x410308c98', '0x410308c99', '0x410308c100', '0x410308c101', '0x410308c102', '0x410308c103', '0x410308c104', '0x410308c105', '0x410308c106', '0x410308c107', '0x410308c108', '0x410308c109', '0x410308c110', '0x410308c111', '0x410308c111', '0x410308c111', '0x410308c112', '0x410308c113', '0x410308c114', '0x410308c115', '0x410308c116', '0x410308c117', '0x410308c118', '0x410308c119', '0x410308c120', '0x410308c121', '0x410308c122', '0x410308c123', '0x410308c124', '0x410308c125', '0x410308c126', '0x410308c127', '0x410308c128', '0x410308c129', '0x410308c130', '0x410308c131', '0x410308c132', '0x410308c133', '0x410308c134', '0x410308c135', '0x410308c136', '0x410308c137', '0x410308c138', '0x410308c139', '0x410308c140', '0x410308c141', '0x410308c142', '0x410308c143', '0x410308c144', '0x410308c145', '0x410308c146', '0x410308c147', '0x410308c148', '0x410308c149', '0x410308c150', '0x410308c151', '0x410308c152', '0x410308c153', '0x410308c154', '0x410308c155', '0x410308c156', '0x410308c157', '0x410308c158', '0x410308c159', '0x410308c160', '0x410308c161', '0x410308c162', '0x410308c163', '0x410308c164', '0x410308c165', '0x410308c166', '0x410308c167', '0x410308c168', '0x410308c169', '0x410308c170', '0x410308c171', '0x410308c172', '0x410308c173', '0x410308c173'] length of ecid2: 198\n"
     ]
    }
   ],
   "source": [
    "# Get the values of ecid1 and ecid2 as separate lists\n",
    "ecid1 = ecid_valid['ecid1'].tolist()\n",
    "ecid2 = ecid_valid['ecid2'].tolist()\n",
    "\n",
    "# Create a new DataFrame to store the values of ecid1 and ecid2\n",
    "ecid_values_df = pd.DataFrame({'ecid1': ecid1, 'ecid2': ecid2})\n",
    "\n",
    "# Save the DataFrame to a CSV file\n",
    "ecid_values_df.to_csv('ecid_values.csv', index=False)\n",
    "\n",
    "\n",
    "# Print the values\n",
    "print(\"ecid1 \", ecid1 ,\"length of ecid1:\",len(ecid1))\n",
    "print(\"ecid2 \", ecid2 ,\"length of ecid2:\",len(ecid2))\n"
   ]
  },
  {
   "cell_type": "code",
   "execution_count": 23,
   "id": "0ee1b8af",
   "metadata": {},
   "outputs": [
    {
     "ename": "NameError",
     "evalue": "name 'ecid_char' is not defined",
     "output_type": "error",
     "traceback": [
      "\u001b[1;31m---------------------------------------------------------------------------\u001b[0m",
      "\u001b[1;31mNameError\u001b[0m                                 Traceback (most recent call last)",
      "Cell \u001b[1;32mIn[23], line 73\u001b[0m\n\u001b[0;32m     71\u001b[0m ecid1 \u001b[38;5;241m=\u001b[39m \u001b[38;5;28mstr\u001b[39m(row[\u001b[38;5;124m'\u001b[39m\u001b[38;5;124mecid1\u001b[39m\u001b[38;5;124m'\u001b[39m])  \n\u001b[0;32m     72\u001b[0m ecid2 \u001b[38;5;241m=\u001b[39m \u001b[38;5;28mstr\u001b[39m(row[\u001b[38;5;124m'\u001b[39m\u001b[38;5;124mecid2\u001b[39m\u001b[38;5;124m'\u001b[39m])  \n\u001b[1;32m---> 73\u001b[0m wafer_lot, wafer_id, x_coord, y_coord \u001b[38;5;241m=\u001b[39m \u001b[43mValue_Generation\u001b[49m\u001b[43m(\u001b[49m\u001b[43mecid1\u001b[49m\u001b[43m,\u001b[49m\u001b[43m \u001b[49m\u001b[43mecid2\u001b[49m\u001b[43m)\u001b[49m\n\u001b[0;32m     74\u001b[0m wafer_lots\u001b[38;5;241m.\u001b[39mappend(wafer_lot)\n\u001b[0;32m     75\u001b[0m wafer_ids\u001b[38;5;241m.\u001b[39mappend(wafer_id)\n",
      "Cell \u001b[1;32mIn[23], line 48\u001b[0m, in \u001b[0;36mValue_Generation\u001b[1;34m(ecid1, ecid2)\u001b[0m\n\u001b[0;32m     46\u001b[0m wafer_id \u001b[38;5;241m=\u001b[39m ecid2_rev \u001b[38;5;241m&\u001b[39m \u001b[38;5;241m0x1f\u001b[39m  \u001b[38;5;66;03m# Wafer ID\u001b[39;00m\n\u001b[0;32m     47\u001b[0m ecid2_rev \u001b[38;5;241m>>\u001b[39m\u001b[38;5;241m=\u001b[39m \u001b[38;5;241m5\u001b[39m\n\u001b[1;32m---> 48\u001b[0m wafer_lot \u001b[38;5;241m=\u001b[39m \u001b[38;5;124mf\u001b[39m\u001b[38;5;124m\"\u001b[39m\u001b[38;5;132;01m{\u001b[39;00m\u001b[43mecid_char\u001b[49m(ecid2_rev\u001b[38;5;250m \u001b[39m\u001b[38;5;241m&\u001b[39m\u001b[38;5;250m \u001b[39m\u001b[38;5;241m0x3f\u001b[39m)\u001b[38;5;132;01m}\u001b[39;00m\u001b[38;5;124m\"\u001b[39m  \u001b[38;5;66;03m# Wafer Lot #6\u001b[39;00m\n\u001b[0;32m     49\u001b[0m ecid2_rev \u001b[38;5;241m>>\u001b[39m\u001b[38;5;241m=\u001b[39m \u001b[38;5;241m6\u001b[39m\n\u001b[0;32m     50\u001b[0m wafer_lot \u001b[38;5;241m=\u001b[39m \u001b[38;5;124mf\u001b[39m\u001b[38;5;124m\"\u001b[39m\u001b[38;5;132;01m{\u001b[39;00mecid_char(ecid2_rev\u001b[38;5;250m \u001b[39m\u001b[38;5;241m&\u001b[39m\u001b[38;5;250m \u001b[39m\u001b[38;5;241m0x3f\u001b[39m)\u001b[38;5;132;01m}\u001b[39;00m\u001b[38;5;132;01m{\u001b[39;00mwafer_lot\u001b[38;5;132;01m}\u001b[39;00m\u001b[38;5;124m\"\u001b[39m  \u001b[38;5;66;03m# Wafer Lot #5\u001b[39;00m\n",
      "\u001b[1;31mNameError\u001b[0m: name 'ecid_char' is not defined"
     ]
    }
   ],
   "source": [
    "import pandas as pd\n",
    "\n",
    "# def ecid_char(val):\n",
    "#        \"\"\"Convert a numeric value to its corresponding character representation.\n",
    "\n",
    "#      Args:\n",
    "#         val (int): The numeric value to convert.\n",
    "\n",
    "#     Returns:\n",
    "#         str: The character representation of the numeric value.\n",
    "#     \"\"\"\n",
    "#        if 0 <= val <= 9:\n",
    "#         # If the value is between 0 and 9, return the character representing that value (0-9)\n",
    "#           return str(val)\n",
    "#        elif 10 <= val <= 35:\n",
    "#         # If the value is between 10 and 35, return the character representing that value (A-Z)\n",
    "#           return chr(ord('A') + val - 10)\n",
    "#        elif 36 <= val <= 61:\n",
    "#           return chr(ord('a') + val - 36)\n",
    "#        else:\n",
    "#         # If the value is outside the range 0-35, raise a ValueError\n",
    "#           raise ValueError(\"Invalid input. Value must be between 0 and 61.\")\n",
    "\n",
    "\n",
    "def Value_Generation(ecid1,ecid2):\n",
    "    \"\"\"Generating values of wafer_lot_id,wafer_id,x,y from ecid1 and ecid2\n",
    "\n",
    "\n",
    "    Args:\n",
    "        ecid1 (string): mix of characters and integers\n",
    "        ecid2 (string): mix of characters and integers\n",
    "\n",
    "\n",
    "    Returns:\n",
    "        string: mix of characters and integers\n",
    "        integer:integer \n",
    "    \"\"\"\n",
    "\n",
    "        \n",
    "    ecid1_rev = int(f\"{int(ecid1, 0):032b}\"[::-1], 2)\n",
    "    ecid2_rev = int(f\"{int(ecid2, 0):032b}\"[::-1], 2)\n",
    "    x_coord = ecid2_rev & 0x3f  # X\n",
    "    ecid2_rev >>= 6\n",
    "    y_coord = ecid2_rev & 0x3f  # Y\n",
    "    ecid2_rev >>= 6\n",
    "    wafer_id = ecid2_rev & 0x1f  # Wafer ID\n",
    "    ecid2_rev >>= 5\n",
    "    wafer_lot = f\"{ecid_char(ecid2_rev & 0x3f)}\"  # Wafer Lot #6\n",
    "    ecid2_rev >>= 6\n",
    "    wafer_lot = f\"{ecid_char(ecid2_rev & 0x3f)}{wafer_lot}\"  # Wafer Lot #5\n",
    "    ecid2_rev >>= 6\n",
    "    wafer_lot = f\"{ecid_char(((ecid1_rev & 0x7) << 3) + (ecid2_rev & 0x7))}{wafer_lot}\"  # Wafer Lot #4\n",
    "    ecid1_rev >>= 3\n",
    "    wafer_lot = f\"{ecid_char(ecid1_rev & 0x3f)}{wafer_lot}\"  # Wafer Lot #3\n",
    "    ecid1_rev >>= 6\n",
    "    wafer_lot = f\"{ecid_char(ecid1_rev & 0x3f)}{wafer_lot}\"  # Wafer Lot #2\n",
    "    ecid1_rev >>= 6\n",
    "    wafer_lot = f\"{ecid_char(ecid1_rev & 0x3f)}{wafer_lot}\"  # Wafer Lot #1\n",
    "    return wafer_lot,wafer_id,x_coord,y_coord\n",
    "\n",
    "data = pd.read_csv('ecid_values.csv')\n",
    "\n",
    "# Create lists to store the results\n",
    "wafer_lots= []\n",
    "wafer_ids = []\n",
    "x_coords= []\n",
    "y_coords= []\n",
    "\n",
    "# Loop through the rows of the DataFrame and call the Value_Generation function for each row\n",
    "for index, row in data.iterrows():\n",
    "    ecid1 = str(row['ecid1'])  \n",
    "    ecid2 = str(row['ecid2'])  \n",
    "    wafer_lot, wafer_id, x_coord, y_coord = Value_Generation(ecid1, ecid2)\n",
    "    wafer_lots.append(wafer_lot)\n",
    "    wafer_ids.append(wafer_id)\n",
    "    x_coords.append(x_coord)\n",
    "    y_coords.append(y_coord)\n",
    "\n",
    "# Create a new DataFrame to store the results\n",
    "result_df = pd.DataFrame({'wafer_lot': wafer_lots, 'wafer_id': wafer_ids, 'x_coord': x_coords, 'y_coord': y_coords})\n",
    "\n",
    "# Save the results to a new CSV file\n",
    "result_df.to_excel('function_return_data.xlsx', index=False)\n",
    "function_return_data_read = pd.read_excel('function_return_data.xlsx')\n",
    "print(\"function_return_data\",len(function_return_data_read))\n"
   ]
  },
  {
   "cell_type": "code",
   "execution_count": null,
   "id": "423a7355",
   "metadata": {
    "scrolled": true
   },
   "outputs": [],
   "source": []
  },
  {
   "cell_type": "code",
   "execution_count": 24,
   "id": "1df7e581",
   "metadata": {
    "scrolled": false
   },
   "outputs": [
    {
     "ename": "NameError",
     "evalue": "name 'wafer_lot_id' is not defined",
     "output_type": "error",
     "traceback": [
      "\u001b[1;31m---------------------------------------------------------------------------\u001b[0m",
      "\u001b[1;31mNameError\u001b[0m                                 Traceback (most recent call last)",
      "Cell \u001b[1;32mIn[24], line 61\u001b[0m\n\u001b[0;32m     58\u001b[0m     \u001b[38;5;28;01mreturn\u001b[39;00m in_wafer_lotlist_li, notin_wafer_lotlist_li\n\u001b[0;32m     60\u001b[0m \u001b[38;5;66;03m# Call the compare_values function\u001b[39;00m\n\u001b[1;32m---> 61\u001b[0m in_waferlotlist_li, notin_waferlotlist_li \u001b[38;5;241m=\u001b[39m compare_values(\u001b[43mwafer_lot_id\u001b[49m, wafer_id_db, x, y, wafer_lot, wafer_id,\n\u001b[0;32m     62\u001b[0m                                                           x_coord, y_coord, wafer_lot_list, genealogy_id, ecid1,\n\u001b[0;32m     63\u001b[0m                                                           ecid2, part_id, product, product_name)\n\u001b[0;32m     65\u001b[0m \u001b[38;5;66;03m# Print the results\u001b[39;00m\n\u001b[0;32m     66\u001b[0m \u001b[38;5;28mprint\u001b[39m(\u001b[38;5;124m\"\u001b[39m\u001b[38;5;124mRows where the conditions are satisfied:\u001b[39m\u001b[38;5;124m\"\u001b[39m)\n",
      "\u001b[1;31mNameError\u001b[0m: name 'wafer_lot_id' is not defined"
     ]
    }
   ],
   "source": [
    "def compare_values(wafer_lot_id, wafer_id_db, x , y,\n",
    "                   wafer_lot, wafer_id, x_coord, y_coord,\n",
    "                   wafer_lot_list, genealogy_id, ecid1, ecid2, part_id, product, product_name):\n",
    "    in_wafer_lotlist_li = []\n",
    "    notin_wafer_lotlist_li= []\n",
    "    \n",
    "    ecid_valid_report_path = \"ecid_valid.csv\"  \n",
    "    ecid_valid_data = pd.read_csv(ecid_valid_report_path)\n",
    "    \n",
    "    wafer_lot_id = ecid_valid_data['wafer_lot_id'].iloc[0]\n",
    "    wafer_id_db = ecid_valid_data['wafer_id_db'].iloc[0]\n",
    "    x = ecid_valid_data['x'].iloc[0]\n",
    "    y = ecid_valid_data['y'].iloc[0]\n",
    "    \n",
    "    function_data_path = \"function_return_data.csv\"  # Replace with the actual file path\n",
    "    functionreturn_data = pd.read_csv(function_data_path)\n",
    "    \n",
    "    wafer_lot = functionreturn_data['wafer_lot'].iloc[0]\n",
    "    wafer_id = functionreturn_data['wafer_id'].iloc[0]\n",
    "    x_coord = functionreturn_data['x_coord'].iloc[0]\n",
    "    y_coord = functionreturn_data['y_coord'].iloc[0]\n",
    "    \n",
    "    if (wafer_lot_id != wafer_lot) or (wafer_id_db != wafer_id) or (x != x_coord) or (y != -1):\n",
    "      if  wafer_lot in wafer_lot_list:\n",
    "         in_wafer_dict = {}\n",
    "         in_wafer_dict['genealogy_id']= genealogy_id\n",
    "         in_wafer_dict['ecidi'] = ecid1\n",
    "         in_wafer_dict['ecid2'] = ecid2 \n",
    "         in_wafer_dict['wafer_lot'] = wafer_lot \n",
    "         in_wafer_dict['wafer_id'] = wafer_id\n",
    "         in_wafer_dict['x_coord'] = x_coord\n",
    "         in_wafer_dict['y_coord'] = y_coord\n",
    "         in_wafer_dict['wafer_lot_id']= wafer_lot_id\n",
    "         in_water_dict['wafer_id_db']= wafer_id_db\n",
    "         in_wafer_dict['x']=x \n",
    "         in_wafer_dict['y']=y\n",
    "         in_wafer_dict['part_id']= part_id\n",
    "         in_wafer_dict['product']=product\n",
    "         in_wafer_dict['product_name']=product_name\n",
    "         in_wafer_lotlist_li.append(in_wafer_dict)\n",
    "    else:\n",
    "         notin_wafer_dict = {}\n",
    "         notin_wafer_dict['genealogy_id']= genealogy_id\n",
    "         notin_wafer_dict['ecidi'] = ecid1\n",
    "         notin_wafer_dict['ecid2'] = ecid2 \n",
    "         notin_wafer_dict['wafer_lot'] = wafer_lot \n",
    "         notin_wafer_dict['wafer_id'] = wafer_id\n",
    "         notin_wafer_dict['x_coord'] = x_coord\n",
    "         notin_wafer_dict['y_coord'] = y_coord\n",
    "         notin_wafer_dict['wafer_lot_id']= wafer_lot_id\n",
    "         notin_water_dict['wafer_id_db']= wafer_id_db\n",
    "         notin_wafer_dict['x']=x \n",
    "         notin_wafer_dict['y']=y\n",
    "         notin_wafer_dict['part_id']= part_id\n",
    "         notin_wafer_dict['product']=product\n",
    "         notin_wafer_dict['product_name']=product_name\n",
    "         notin_wafer_lotlist_li.append(notin_wafer_dict)\n",
    "    return in_wafer_lotlist_li, notin_wafer_lotlist_li\n",
    "\n",
    "# Call the compare_values function\n",
    "in_waferlotlist_li, notin_waferlotlist_li = compare_values(wafer_lot_id, wafer_id_db, x, y, wafer_lot, wafer_id,\n",
    "                                                          x_coord, y_coord, wafer_lot_list, genealogy_id, ecid1,\n",
    "                                                          ecid2, part_id, product, product_name)\n",
    "\n",
    "# Print the results\n",
    "print(\"Rows where the conditions are satisfied:\")\n",
    "print(in_waferlotlist_li)\n",
    "\n",
    "print(\"Rows where the conditions are not satisfied:\")\n",
    "print(notin_waferlotlist_li)\n",
    "\n",
    "# Save in_waferlotlist_li to a CSV file\n",
    "in_df = pd.DataFrame(in_waferlotlist_li)\n",
    "in_df.to_csv('in_waferlotlist.csv', index=False)\n",
    "\n",
    "# Save notin_waferlotlist_li to a CSV file\n",
    "notin_df = pd.DataFrame(notin_waferlotlist_li)\n",
    "notin_df.to_csv('notin_waferlotlist.csv', index=False)\n",
    "\n",
    "\n",
    "      "
   ]
  },
  {
   "cell_type": "code",
   "execution_count": 25,
   "id": "20d1fffc",
   "metadata": {},
   "outputs": [
    {
     "name": "stdout",
     "output_type": "stream",
     "text": [
      "Matching rows from the function:\n",
      "[False]\n",
      "Matching rows from the database:\n",
      "[False]\n"
     ]
    }
   ],
   "source": [
    "import pandas as pd\n",
    "\n",
    "# condition to check for matching values\n",
    "condition = (\n",
    "    (['wafer_lot'] != ['wafer_lot_id']) &\n",
    "    (['wafer_id'] == ['wafer_id_db']) &\n",
    "    (['x_coord'] == ['x']) &\n",
    "    (['y_coord'] == ['y'])\n",
    ")\n",
    "\n",
    "# Filter the data frames to get the rows where the condition is True\n",
    "matching_rows_function = [condition]\n",
    "matching_rows_database = [condition]\n",
    "\n",
    "# Print or analyze the matching rows as needed\n",
    "print(\"Matching rows from the function:\")\n",
    "print(matching_rows_function)\n",
    "\n",
    "# Save  to a CSV file\n",
    "in_df = pd.DataFrame(matching_rows_function)\n",
    "in_df.to_csv('matching_rows_function.csv', index=False)\n",
    "\n",
    "\n",
    "print(\"Matching rows from the database:\")\n",
    "print(matching_rows_database)\n",
    "# Save  to a CSV file\n",
    "notin_df = pd.DataFrame(matching_rows_database)\n",
    "notin_df.to_csv('matching_rows_database.csv', index=False)\n",
    "\n"
   ]
  },
  {
   "cell_type": "code",
   "execution_count": 26,
   "id": "6e432a35",
   "metadata": {
    "scrolled": true
   },
   "outputs": [
    {
     "data": {
      "text/plain": [
       "True"
      ]
     },
     "execution_count": 26,
     "metadata": {},
     "output_type": "execute_result"
    }
   ],
   "source": [
    "import os\n",
    "import win32com.client as win32\n",
    "\n",
    "olApp = win32.Dispatch('Outlook.Application')\n",
    "olNS = olApp.GetNameSpace('MAPI')\n",
    "\n",
    "mailItem = olApp.CreateItem(0)\n",
    "mailItem.Subject = 'filtered data'\n",
    "mailItem.BodyFormat = 1\n",
    "mailItem.Body = \"\"\"Hi,\n",
    "Here i am attaching the  files which i got through  filtering records based on the criteria list i am having. \n",
    "ecid1andecid2is0- filtering the records where ecid1 and ecid2 are 0 \n",
    "ecid1andecid2isblank.csv-filtering the records where both ecid1 and ecid2 are having blank values\n",
    "ecid_valid -filtering the records where valid refers to other than blank and zero values,it will capture remaining values into the valid report file\n",
    "ecid_values-getting the values of ecid1 and ecid2 to pass through the Value_generation function to get the wafer_lot_id,wafer_id, y_coord,x_coord\n",
    "function_return_data- After passing the ecid1 and ecid2 values through the value_generation function ,function return wafer_lot_id, wafer_id , x_coord,y_coord.\n",
    "Those values will store in this csv file.\n",
    "Othersmatchesbutyisnot-wafer_lot_id ,wafer_id,x  from the function and database should match where y is -1.those values will store in the file.\n",
    "othersmatcheswaferlotiddiff- wafer_id , x , y should match from the function and database where wafer_lot_id is different.\n",
    "This are the conditions i had captured till now and then sending the mail with attaching files using python.\n",
    "\n",
    "Thanks,\n",
    "-Indhu\"\"\"\n",
    "\n",
    "mailItem.To = 'pivelusu@cisco.com ; iseemala@cisco.com; seemalamudi.indhu@hcl.com'\n",
    "\n",
    "mailItem.Attachments.Add(os.path.join(os.getcwd(),'ecid1andecid2is0.csv'))\n",
    "mailItem.Attachments.Add(os.path.join(os.getcwd(),'ecid1andecid2isblank.csv'))\n",
    "mailItem.Attachments.Add(os.path.join(os.getcwd(),'ecid_valid.csv'))\n",
    "mailItem.Attachments.Add(os.path.join(os.getcwd(),'ecid_values.csv'))\n",
    "mailItem.Attachments.Add(os.path.join(os.getcwd(),'function_return_data.csv'))\n",
    "mailItem.Attachments.Add(os.path.join(os.getcwd(),'othersmatchesbutyisnot.csv'))\n",
    "mailItem.Attachments.Add(os.path.join(os.getcwd(),'othersmatcheswaferlotiddiff.csv'))\n",
    "\n",
    "mailItem.Display()\n",
    "mailItem.send\n"
   ]
  },
  {
   "cell_type": "code",
   "execution_count": null,
   "id": "e5d302bc",
   "metadata": {},
   "outputs": [],
   "source": []
  },
  {
   "cell_type": "code",
   "execution_count": null,
   "id": "656ba2d3",
   "metadata": {},
   "outputs": [],
   "source": []
  },
  {
   "cell_type": "code",
   "execution_count": null,
   "id": "b561a272",
   "metadata": {},
   "outputs": [],
   "source": []
  },
  {
   "cell_type": "code",
   "execution_count": null,
   "id": "bc4ae928",
   "metadata": {},
   "outputs": [],
   "source": []
  },
  {
   "cell_type": "code",
   "execution_count": null,
   "id": "24990004",
   "metadata": {},
   "outputs": [],
   "source": []
  }
 ],
 "metadata": {
  "kernelspec": {
   "display_name": "Python 3 (ipykernel)",
   "language": "python",
   "name": "python3"
  },
  "language_info": {
   "codemirror_mode": {
    "name": "ipython",
    "version": 3
   },
   "file_extension": ".py",
   "mimetype": "text/x-python",
   "name": "python",
   "nbconvert_exporter": "python",
   "pygments_lexer": "ipython3",
   "version": "3.11.3"
  }
 },
 "nbformat": 4,
 "nbformat_minor": 5
}
